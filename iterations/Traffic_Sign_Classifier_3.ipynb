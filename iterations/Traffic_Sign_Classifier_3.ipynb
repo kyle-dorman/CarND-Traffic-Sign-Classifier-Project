{
 "cells": [
  {
   "cell_type": "markdown",
   "metadata": {},
   "source": [
    "# Self-Driving Car Engineer Nanodegree\n",
    "\n",
    "## Deep Learning\n",
    "\n",
    "## Project: Build a Traffic Sign Recognition Classifier\n",
    "\n",
    "In this notebook, a template is provided for you to implement your functionality in stages which is required to successfully complete this project. If additional code is required that cannot be included in the notebook, be sure that the Python code is successfully imported and included in your submission, if necessary. Sections that begin with **'Implementation'** in the header indicate where you should begin your implementation for your project. Note that some sections of implementation are optional, and will be marked with **'Optional'** in the header.\n",
    "\n",
    "In addition to implementing code, there will be questions that you must answer which relate to the project and your implementation. Each section where you will answer a question is preceded by a **'Question'** header. Carefully read each question and provide thorough answers in the following text boxes that begin with **'Answer:'**. Your project submission will be evaluated based on your answers to each of the questions and the implementation you provide.\n",
    "\n",
    ">**Note:** Code and Markdown cells can be executed using the **Shift + Enter** keyboard shortcut. In addition, Markdown cells can be edited by typically double-clicking the cell to enter edit mode."
   ]
  },
  {
   "cell_type": "markdown",
   "metadata": {},
   "source": [
    "---\n",
    "## Step 0: Load The Data"
   ]
  },
  {
   "cell_type": "code",
   "execution_count": 1,
   "metadata": {
    "collapsed": false
   },
   "outputs": [
    {
     "name": "stdout",
     "output_type": "stream",
     "text": [
      "Loading project data.\n",
      "traffic-signs-data.zip already downloaded.\n",
      "Data already unzipped.\n",
      "Unpickling file train.p.\n",
      "Unpickling file test.p.\n",
      "Returning ProjectData(train, test).\n",
      "Loading pre-preprocessed greyscale data...\n",
      "Unpickling file train_greyscale_preprocessed.p.\n",
      "Loading pre-preprocessed data...\n",
      "Unpickling file train_preprocessed.p.\n",
      "Unpickling file test_preprocessed.p.\n",
      "Done!\n"
     ]
    }
   ],
   "source": [
    "# Load pickled data\n",
    "import pickle\n",
    "from reusable import file_loader\n",
    "from reusable import load\n",
    "from reusable import preprocessor\n",
    "import csv\n",
    "import numpy as np\n",
    "\n",
    "orig_data = load.load_project_data()\n",
    "greyscale_data = preprocessor.load_greyscale_train_data()\n",
    "data = preprocessor.load_preprocessed_data()\n",
    "\n",
    "orig_X_train, orig_y_train = (orig_data.train.features, orig_data.train.labels)\n",
    "orig_X_test, orig_y_test = (orig_data.test.features, orig_data.test.labels)\n",
    "\n",
    "greyscale_X, greyscale_y = (greyscale_data.features, greyscale_data.labels)\n",
    "\n",
    "X_train, y_train = (data.train.features, data.train.labels)\n",
    "X_test, y_test = (data.test.features, data.test.labels)\n",
    "\n",
    "def load_csv_to_dict(csv_file):\n",
    "  with open(csv_file, mode='r') as infile:\n",
    "    reader = csv.reader(infile)\n",
    "    return {rows[0]:rows[1] for rows in reader}\n",
    "  \n",
    "sign_dict = load_csv_to_dict(\"../signnames.csv\")\n",
    "\n",
    "unique, counts = np.unique(orig_y_train, return_counts=True)\n",
    "unique_grey = np.unique(greyscale_y)\n",
    "# dict of original images\n",
    "train_dict = {u: [] for u in unique}\n",
    "grey_dict = {u: [] for u in unique}\n",
    "\n",
    "for i in range(len(orig_X_train)):\n",
    "  train_dict[orig_y_train[i]].append(orig_X_train[i])\n",
    "  grey_dict[greyscale_y[i]].append(greyscale_X[i])\n",
    "  \n",
    "print(\"Done!\")"
   ]
  },
  {
   "cell_type": "markdown",
   "metadata": {},
   "source": [
    "---\n",
    "\n",
    "## Step 1: Dataset Summary & Exploration\n",
    "\n",
    "The pickled data is a dictionary with 4 key/value pairs:\n",
    "\n",
    "- `'features'` is a 4D array containing raw pixel data of the traffic sign images, (num examples, width, height, channels).\n",
    "- `'labels'` is a 2D array containing the label/class id of the traffic sign. The file `signnames.csv` contains id -> name mappings for each id.\n",
    "- `'sizes'` is a list containing tuples, (width, height) representing the the original width and height the image.\n",
    "- `'coords'` is a list containing tuples, (x1, y1, x2, y2) representing coordinates of a bounding box around the sign in the image. **THESE COORDINATES ASSUME THE ORIGINAL IMAGE. THE PICKLED DATA CONTAINS RESIZED VERSIONS (32 by 32) OF THESE IMAGES**\n",
    "\n",
    "Complete the basic data summary below."
   ]
  },
  {
   "cell_type": "code",
   "execution_count": 2,
   "metadata": {
    "collapsed": false
   },
   "outputs": [
    {
     "name": "stdout",
     "output_type": "stream",
     "text": [
      "Original number of training examples = 39209\n",
      "Original number of testing examples = 39209\n",
      "Original image data shape = (32, 32, 3)\n",
      "Original number of classes = 43\n",
      "Original min count = 210\n",
      "Original max count = 2250\n",
      "\n",
      "Jiggered number of training examples = 96750\n",
      "Jiggered number of testing examples = 96750\n",
      "Jiggered image data shape = (32, 32, 1)\n",
      "Jiggered number of classes = 43\n",
      "Jiggered min count = 2250\n",
      "Jiggered max count = 2250\n"
     ]
    }
   ],
   "source": [
    "### Replace each question mark with the appropriate value.\n",
    "def data_info(features_train, labels_train, feautures_test, labels_test, name):\n",
    "  # Number of training examples\n",
    "  n_train = len(features_train)\n",
    "  # Number of testing examples.\n",
    "  n_test = len(labels_train)\n",
    "  # What's the shape of an traffic sign image?\n",
    "  image_shape = features_train[0].shape\n",
    "  # How many unique classes/labels there are in the dataset.\n",
    "  n_classes = len(set(y_train))\n",
    "  \n",
    "  indicies, counts = np.unique(labels_train, return_counts=True)\n",
    "\n",
    "  print(name, \"number of training examples =\", n_train)\n",
    "  print(name, \"number of testing examples =\", n_test)\n",
    "  print(name, \"image data shape =\", image_shape)\n",
    "  print(name, \"number of classes =\", n_classes)\n",
    "  print(name, \"min count =\", min(counts))\n",
    "  print(name, \"max count =\", max(counts))\n",
    "  \n",
    "data_info(orig_X_train, orig_y_train, orig_X_test, orig_y_test, \"Original\")\n",
    "print()\n",
    "data_info(X_train, y_train, X_test, y_test, \"Jiggered\")"
   ]
  },
  {
   "cell_type": "markdown",
   "metadata": {},
   "source": [
    "Visualize the German Traffic Signs Dataset using the pickled file(s). This is open ended, suggestions include: plotting traffic sign images, plotting the count of each sign, etc.\n",
    "\n",
    "The [Matplotlib](http://matplotlib.org/) [examples](http://matplotlib.org/examples/index.html) and [gallery](http://matplotlib.org/gallery.html) pages are a great resource for doing visualizations in Python.\n",
    "\n",
    "**NOTE:** It's recommended you start with something simple first. If you wish to do more, come back to it after you've completed the rest of the sections."
   ]
  },
  {
   "cell_type": "code",
   "execution_count": 3,
   "metadata": {
    "collapsed": false
   },
   "outputs": [
    {
     "name": "stdout",
     "output_type": "stream",
     "text": [
      "Only run this for display.\n"
     ]
    }
   ],
   "source": [
    "### Data exploration visualization goes here.\n",
    "### Feel free to use as many code cells as needed.\n",
    "import matplotlib.pyplot as plt\n",
    "import random\n",
    "# Visualizations will be shown in the notebook.\n",
    "%matplotlib inline\n",
    "\n",
    "def display_images(images, image_name, num_images, greyscale=False):\n",
    "  print(\"Class\", \"`\" + image_name + \"`\", \":\", len(images), \"samples.\")\n",
    "  fig = plt.figure(figsize = (6, 1))\n",
    "  fig.subplots_adjust(left = 0, right = 1, bottom = 0, top = 1, hspace = 0.05, wspace = 0.05)\n",
    "  for i in range(num_images):\n",
    "    axis = fig.add_subplot(1, num_images, i + 1, xticks=[], yticks=[])\n",
    "    rand_index = random.randint(0, len(images[i]-1))\n",
    "    if greyscale:\n",
    "      axis.imshow(images[rand_index].squeeze(), cmap='gray')\n",
    "    else:\n",
    "      axis.imshow(images[rand_index].squeeze())\n",
    "  plt.show()\n",
    "  print(\"--------------------------------------------------------------------------------------\\n\")\n",
    "\n",
    "print(\"Only run this for display.\")\n",
    "display = False\n",
    "if display:\n",
    "  for k in train_dict.keys():\n",
    "    display_images(train_dict[k], sign_dict[str(k)], 10)\n",
    "    display_images(grey_dict[k], sign_dict[str(k)] + \" greyscale\", 10, greyscale=True)"
   ]
  },
  {
   "cell_type": "code",
   "execution_count": 4,
   "metadata": {
    "collapsed": false
   },
   "outputs": [
    {
     "name": "stdout",
     "output_type": "stream",
     "text": [
      "[('Speed limit (20km/h)', 210), ('Dangerous curve to the left', 210), ('Go straight or left', 210), ('Pedestrians', 240), ('End of all speed and passing limits', 240)]\n",
      "[('Speed limit (50km/h)', 2250), ('Speed limit (30km/h)', 2220), ('Yield', 2160), ('Priority road', 2100), ('Keep right', 2070)]\n"
     ]
    },
    {
     "data": {
      "image/png": "[encoded data removed]",
      "text/plain": [
       "<matplotlib.figure.Figure at 0x12aeef3c8>"
      ]
     },
     "metadata": {},
     "output_type": "display_data"
    },
    {
     "name": "stdout",
     "output_type": "stream",
     "text": [
      "[('Speed limit (20km/h)', 60), ('Dangerous curve to the left', 60), ('Pedestrians', 60), ('End of all speed and passing limits', 60), ('Go straight or left', 60)]\n",
      "[('Speed limit (50km/h)', 750), ('Speed limit (30km/h)', 720), ('Yield', 720), ('Priority road', 690), ('Keep right', 690)]\n"
     ]
    },
    {
     "data": {
      "image/png": "[encoded data removed]",
      "text/plain": [
       "<matplotlib.figure.Figure at 0x12aeef278>"
      ]
     },
     "metadata": {},
     "output_type": "display_data"
    },
    {
     "name": "stdout",
     "output_type": "stream",
     "text": [
      "[('Speed limit (20km/h)', 2250), ('Speed limit (30km/h)', 2250), ('Speed limit (50km/h)', 2250), ('Speed limit (60km/h)', 2250), ('Speed limit (70km/h)', 2250)]\n",
      "[('Speed limit (20km/h)', 2250), ('Speed limit (30km/h)', 2250), ('Speed limit (50km/h)', 2250), ('Speed limit (60km/h)', 2250), ('Speed limit (70km/h)', 2250)]\n"
     ]
    },
    {
     "data": {
      "image/png": "[encoded data removed]",
      "text/plain": [
       "<matplotlib.figure.Figure at 0x12c23a048>"
      ]
     },
     "metadata": {},
     "output_type": "display_data"
    }
   ],
   "source": [
    "### Count number of each sign in test and train datasets\n",
    "import matplotlib.mlab as mlab\n",
    "import matplotlib.pyplot as plt\n",
    "%matplotlib inline\n",
    "\n",
    "def hist(data, name):\n",
    "  indicies, counts = np.unique(data, return_counts=True)\n",
    "  # the histogram of the data\n",
    "  n, bins, patches = plt.hist(data, len(indicies), facecolor='green')\n",
    "\n",
    "  plt.xlabel('Sign index')\n",
    "  plt.ylabel('Count')\n",
    "  plt.title('Count  of dataset ' + name)\n",
    "  plt.axis([0, len(indicies), 0, max(counts)])\n",
    "  plt.grid(True)\n",
    "\n",
    "  plt.show()\n",
    "  \n",
    "def min_counts(data, num_to_print=5):\n",
    "  indicies, counts = np.unique(data, return_counts=True)\n",
    "  arr = sorted(list(zip(indicies, counts)), key=lambda x: x[1])\n",
    "  print([(sign_dict[str(sign[0])], sign[1]) for sign in arr[0:num_to_print]])\n",
    "\n",
    "def max_counts(data, num_to_print=5):\n",
    "  indicies, counts = np.unique(data, return_counts=True)\n",
    "  arr = sorted(list(zip(indicies, counts)), key=lambda x: x[1], reverse=True)\n",
    "  print([(sign_dict[str(sign[0])], sign[1]) for sign in arr[0:num_to_print]])\n",
    "  \n",
    "  \n",
    "min_counts(orig_y_train)\n",
    "max_counts(orig_y_train)\n",
    "hist(orig_y_train, 'train')\n",
    "\n",
    "min_counts(y_test)\n",
    "max_counts(y_test)\n",
    "hist(y_test, 'test')\n",
    "\n",
    "min_counts(y_train)\n",
    "max_counts(y_train)\n",
    "hist(y_train, 'jiggered train')"
   ]
  },
  {
   "cell_type": "markdown",
   "metadata": {},
   "source": [
    "----\n",
    "\n",
    "## Step 2: Design and Test a Model Architecture\n",
    "\n",
    "Design and implement a deep learning model that learns to recognize traffic signs. Train and test your model on the [German Traffic Sign Dataset](http://benchmark.ini.rub.de/?section=gtsrb&subsection=dataset).\n",
    "\n",
    "There are various aspects to consider when thinking about this problem:\n",
    "\n",
    "- Neural network architecture\n",
    "- Play around preprocessing techniques (normalization, rgb to grayscale, etc)\n",
    "- Number of examples per label (some have more than others).\n",
    "- Generate fake data.\n",
    "\n",
    "Here is an example of a [published baseline model on this problem](http://yann.lecun.com/exdb/publis/pdf/sermanet-ijcnn-11.pdf). It's not required to be familiar with the approach used in the paper but, it's good practice to try to read papers like these.\n",
    "\n",
    "**NOTE:** The LeNet-5 implementation shown in the [classroom](https://classroom.udacity.com/nanodegrees/nd013/parts/fbf77062-5703-404e-b60c-95b78b2f3f9e/modules/6df7ae49-c61c-4bb2-a23e-6527e69209ec/lessons/601ae704-1035-4287-8b11-e2c2716217ad/concepts/d4aca031-508f-4e0b-b493-e7b706120f81) at the end of the CNN lesson is a solid starting point. You'll have to change the number of classes and possibly the preprocessing, but aside from that it's plug and play!"
   ]
  },
  {
   "cell_type": "markdown",
   "metadata": {},
   "source": [
    "### Implementation\n",
    "\n",
    "Use the code cell (or multiple code cells, if necessary) to implement the first step of your project. Once you have completed your implementation and are satisfied with the results, be sure to thoroughly answer the questions that follow."
   ]
  },
  {
   "cell_type": "markdown",
   "metadata": {},
   "source": [
    "### Question 1 \n",
    "\n",
    "_Describe how you preprocessed the data. Why did you choose that technique?_"
   ]
  },
  {
   "cell_type": "markdown",
   "metadata": {},
   "source": [
    "**Answer:**\n",
    "#### Preprocess Steps\n",
    "\n",
    "I have done all my preprocessing in helper files. Preprocessing was taking a long time so I found it easier to save the files as pickles than continue to reload them. My processing steps are:\n",
    "\n",
    "1. Convert to greyscale\n",
    "2. Scale between -1 and 1\n",
    "3. Split out validation data\n",
    "\n",
    "I converted the images to greyscale because Images had varying levels of brightness and contrast. COnverting to greyscale imporoved the contrast dramatically. I scaled the images between -1 and 1 because it is easier to run the optimization when the data is normally distribuated about 0 with a standard deviation of 1. I decided against using the data points in the csv file to crop the images. In looking at the images, I felt like he images had already been cropped sufficently for a Neural Network. "
   ]
  },
  {
   "cell_type": "code",
   "execution_count": 5,
   "metadata": {
    "collapsed": false
   },
   "outputs": [
    {
     "name": "stdout",
     "output_type": "stream",
     "text": [
      "Resetting data.\n",
      "Loading pre-preprocessed data...\n",
      "Unpickling file train_preprocessed.p.\n",
      "Unpickling file test_preprocessed.p.\n",
      "Done!\n"
     ]
    }
   ],
   "source": [
    "print(\"Resetting data.\")\n",
    "train_pipeline_complete = False\n",
    "test_pipeline_complete = False\n",
    "\n",
    "data = preprocessor.load_preprocessed_data()\n",
    "\n",
    "X_train, y_train = (data.train.features, data.train.labels)\n",
    "X_test, y_test = (data.test.features, data.test.labels)\n",
    "print('Done!')"
   ]
  },
  {
   "cell_type": "code",
   "execution_count": 6,
   "metadata": {
    "collapsed": false
   },
   "outputs": [
    {
     "name": "stdout",
     "output_type": "stream",
     "text": [
      "Starting pipeline for training data.\n",
      "Finished pipeline for training data.\n"
     ]
    }
   ],
   "source": [
    "### Generate data additional data (OPTIONAL!)\n",
    "### and split the data into training/validation/testing sets here.\n",
    "### Feel free to use as many code cells as needed.\n",
    "from sklearn.utils import shuffle\n",
    "from sklearn.model_selection import train_test_split\n",
    "\n",
    "### Pipeline. All this does is split data into train and validation.\n",
    "# Don't run this twice\n",
    "if train_pipeline_complete == False:\n",
    "  print(\"Starting pipeline for training data.\")\n",
    "  X_train, y_train = shuffle(X_train, y_train)\n",
    "  X_train, X_valid, y_train, y_valid = train_test_split(X_train, y_train, test_size=0.2, random_state=42)\n",
    "  train_pipeline_complete = True\n",
    "  print(\"Finished pipeline for training data.\")\n",
    "else:\n",
    "  print(\"Already preprocessed train data. To re-run, reset previous cell.\")"
   ]
  },
  {
   "cell_type": "markdown",
   "metadata": {},
   "source": [
    "### Question 2\n",
    "\n",
    "_Describe how you set up the training, validation and testing data for your model. **Optional**: If you generated additional data, how did you generate the data? Why did you generate the data? What are the differences in the new dataset (with generated data) from the original dataset?_"
   ]
  },
  {
   "cell_type": "markdown",
   "metadata": {},
   "source": [
    "**Answer:**\n",
    "When looking at the graphs of the data above, I noticed there were a lot less (10X) of some images than others. I am not sure if this data is reflective of the signs on German roads or not. If it is then it may make sense to actually leave the data as is. It is possible that a data bias will result in the model \"guessing\" the a more popular sign when it is unsure. Biasing the model toward the most popular sign may not be the best idea. Anther way to bias the model could be by having the most signs for the most important information (Where getting the sign wrong could be the most dangerous, for example). In the end I wasn't sure what if any bias I should/could apply based on the data so I instead decided that there should be equal numbers of all signs. I first did this by limiting the dataset to the smallest number of on individual sign. This made it super fast to train the model but resulted in a low validation accuracy. After reading the Yann Lecunn paper linked above, I realized I could \"jigger\" the images to create more of them. In general the model shoudl be robuse to different lighting conditions and different angles and different positions in the image. With this in mind, I decided to add additional data points so all signs had the same number of data points. I did this by applying random shifts, rotations and gamma values in a range of values. The range was based on the values used in the LeCunn paper and an eye test. I ended up using the maximum individual sign count as the number of signs but I could also add even more data points by increasing this number and jiggering all sign types. \n",
    "\n",
    "Looking at the images, it is hard to tell what is a \"jiggered\" image and what isn't so I think the jiggered data is within the relm of reason. \n",
    "\n",
    "Original number of training examples = 39209\n",
    "Original number of testing examples = 39209\n",
    "Original image data shape = (32, 32, 3)\n",
    "Original number of classes = 43\n",
    "Original min count = 210\n",
    "Original max count = 2250\n",
    "\n",
    "Jiggered number of training examples = 96750\n",
    "Jiggered number of testing examples = 96750\n",
    "Jiggered image data shape = (32, 32, 1)\n",
    "Jiggered number of classes = 43\n",
    "Jiggered min count = 2250\n",
    "Jiggered max count = 2250"
   ]
  },
  {
   "cell_type": "markdown",
   "metadata": {},
   "source": [
    "### Question 3\n",
    "\n",
    "_What does your final architecture look like? (Type of model, layers, sizes, connectivity, etc.)  For reference on how to build a deep neural network using TensorFlow, see [Deep Neural Network in TensorFlow\n",
    "](https://classroom.udacity.com/nanodegrees/nd013/parts/fbf77062-5703-404e-b60c-95b78b2f3f9e/modules/6df7ae49-c61c-4bb2-a23e-6527e69209ec/lessons/b516a270-8600-4f93-a0a3-20dfeabe5da6/concepts/83a3a2a2-a9bd-4b7b-95b0-eb924ab14432) from the classroom._\n"
   ]
  },
  {
   "cell_type": "markdown",
   "metadata": {},
   "source": [
    "**Answer:**\n",
    "This model is \n",
    "* CNN(stride=1, kernal=5, depth=16)\n",
    "* IncpetionModule(depth=32)\n",
    "* InceptionModule(depth=64)\n",
    "* flattened*\n",
    "* FullyConnected(depth=64) with dropout (0.7)\n",
    "* FullyConnected(depth=128)\n",
    "* Out (depth=10)\n",
    "\n",
    "Based on this [article](https://hacktilldawn.com/2016/09/25/inception-modules-explained-and-implemented/.An), an  inception module is:\n",
    "* CNN1 = CNN(input, stride=1, kernal=1, depth=final_depth)\n",
    "* CNN2 = RELU(CNN(input, stride=1, kernal=1, depth=16))\n",
    "* CNN3 = RELU(CNN(input, stride=1, kernal=1, depth=16))\n",
    "* CNN4 = CNN(CNN2, string=1, kernal=3, depth=final_depth)\n",
    "* CNN5 = CNN(CNN3, stride=1, kernal=5, depth=final_depth)\n",
    "* POOL = MaxPool(input, stride=1, kernal=3)\n",
    "* CNN6 = CNN(Pool, stride=1, keranl=1, depth=final_depth)\n",
    "* => RELU(CONCAT(CNN1, CNN4, CNN5, CNN6)\n",
    "\n",
    "In the LeCunn paper, the author mentions the results for the model got much better after the results from the first 3 layers were combined and flatened before running the fully connected layer. This sound like an eary version of an inception module to me so I decided to take the time to learn how an inception module worked and use it in this project. \n"
   ]
  },
  {
   "cell_type": "code",
   "execution_count": 7,
   "metadata": {
    "collapsed": false
   },
   "outputs": [],
   "source": [
    "import tensorflow as tf"
   ]
  },
  {
   "cell_type": "code",
   "execution_count": 8,
   "metadata": {
    "collapsed": false
   },
   "outputs": [],
   "source": [
    "def fully_connected(input, size):\n",
    "  weights = tf.get_variable('weights', \n",
    "    shape = [input.get_shape()[1], size],\n",
    "    initializer = tf.contrib.layers.xavier_initializer()\n",
    "  )\n",
    "  biases = tf.get_variable('biases',\n",
    "    shape = [size],\n",
    "    initializer=tf.constant_initializer(0.0)\n",
    "  )\n",
    "  return tf.matmul(input, weights) + biases\n",
    "\n",
    "  \n",
    "def fully_connected_relu(input, size):\n",
    "  return tf.nn.relu(fully_connected(input, size))\n",
    "  \n",
    "def conv(input, kernel_size, depth):\n",
    "  weights = tf.get_variable('weights', \n",
    "    shape = [kernel_size, kernel_size, input.get_shape()[3], depth],\n",
    "    initializer = tf.contrib.layers.xavier_initializer()\n",
    "  )\n",
    "  biases = tf.get_variable('biases',\n",
    "    shape = [depth],\n",
    "    initializer=tf.constant_initializer(0.0)\n",
    "  )\n",
    "  return tf.nn.conv2d(input, weights, strides=[1, 1, 1, 1], padding='SAME') + biases\n",
    "\n",
    "def conv_relu(input, kernel_size, depth):\n",
    "  return tf.nn.relu(conv(input, kernel_size, depth))\n",
    "\n",
    "def pool(input, filter_size, stride_size, padding='SAME'):\n",
    "  return tf.nn.max_pool(\n",
    "    input, \n",
    "    ksize=[1, filter_size, filter_size, 1], \n",
    "    strides=[1, stride_size, stride_size, 1], \n",
    "    padding=padding\n",
    "  )\n",
    "  \n",
    "def avg_pool(input, filter_size, stride_size, padding='SAME'):\n",
    "  return tf.nn.avg_pool(\n",
    "    input, \n",
    "    ksize=[1, filter_size, filter_size, 1], \n",
    "    strides=[1, stride_size, stride_size, 1], \n",
    "    padding=padding\n",
    "  )\n",
    "\n",
    "def inception(input, params):\n",
    "  with tf.variable_scope(params.name + \"_\" + \"conv_1x1_1\"):\n",
    "    conv_1x1_1 = conv(input, 1, params.final)\n",
    "  with tf.variable_scope(params.name + \"_\" + \"conv_1x1_2\"):\n",
    "    conv_1x1_2 = conv_relu(input, 1, params.reduce)\n",
    "  with tf.variable_scope(params.name + \"_\" + \"conv_1x1_3\"):\n",
    "    conv_1x1_3 = conv_relu(input, 1, params.reduce)\n",
    "    \n",
    "  with tf.variable_scope(params.name + \"_\" + \"conv_3x3\"):\n",
    "    conv_3x3 = conv(conv_1x1_2, 3, params.final)\n",
    "  with tf.variable_scope(params.name + \"_\" + \"conv_5x5\"):\n",
    "    conv_5x5 = conv(conv_1x1_3, 5, params.final)\n",
    "    \n",
    "  with tf.variable_scope(params.name + \"_\" + \"pool\"):\n",
    "    pool_1 = pool(input, 3, 1)\n",
    "  with tf.variable_scope(params.name + \"_\" + \"conv_1x1_4\"):\n",
    "    conv_1x1_4 = conv(pool_1, 1, params.final)\n",
    "    \n",
    "  return tf.nn.relu(tf.concat(3,[conv_1x1_1, conv_3x3, conv_5x5, conv_1x1_4]))"
   ]
  },
  {
   "cell_type": "code",
   "execution_count": 9,
   "metadata": {
    "collapsed": false
   },
   "outputs": [],
   "source": [
    "from tensorflow.contrib.layers import flatten\n",
    "# 32, 64, 128, \n",
    "def model_pass(input, is_training, params):\n",
    "  # Convolutional layers\n",
    "  with tf.variable_scope('conv1'):\n",
    "    conv1 = conv_relu(input, params['conv1'].kernel_size, params['conv1'].depth)\n",
    "        \n",
    "  with tf.variable_scope('inception1'):\n",
    "    inception1 = inception(conv1, params['inception1'])\n",
    "    \n",
    "  with tf.variable_scope('inception2'):\n",
    "    inception2 = inception(inception1, params['inception2'])  \n",
    "        \n",
    "  # Flatten convolutional layers output\n",
    "  fc0 = flatten(inception2)\n",
    "    \n",
    "  # Fully connected layers\n",
    "  with tf.variable_scope('fc1'):\n",
    "    size = params['fc1'].size\n",
    "    keep_prob = params['dropout1'].keep_prob\n",
    "    fc1 = fully_connected_relu(fc0, size=size)\n",
    "    fc1 = tf.cond(is_training, lambda: tf.nn.dropout(fc1, keep_prob=keep_prob), lambda: fc1)\n",
    "  with tf.variable_scope('fc2'):\n",
    "    fc2 = fully_connected_relu(fc1, size=params['fc2'].size)\n",
    "  with tf.variable_scope('out'):\n",
    "    size = params['out'].size\n",
    "    prediction = fully_connected(fc2, size=size)\n",
    "  return prediction"
   ]
  },
  {
   "cell_type": "code",
   "execution_count": 10,
   "metadata": {
    "collapsed": false
   },
   "outputs": [],
   "source": [
    "from reusable.batches import Batch\n",
    "\n",
    "class ModelParam:\n",
    "  def __init__(self):\n",
    "    print('ModelParam.__init__')\n",
    "    \n",
    "  def full_param_name(self):\n",
    "    print('ModelParam.full_param_name')\n",
    "\n",
    "class ConvParam(ModelParam):\n",
    "  def __init__(self, name, kernel_size, depth):\n",
    "    self.name = name\n",
    "    self.kernel_size = kernel_size\n",
    "    self.depth = depth\n",
    "    \n",
    "  def full_param_name(self):\n",
    "    return \"ck{}cd{}\".format(self.kernel_size, self.depth)\n",
    "  \n",
    "class InceptionParam(ModelParam):\n",
    "  def __init__(self, name, final, reduce):\n",
    "    self.name = name\n",
    "    self.final = final\n",
    "    self.reduce = reduce\n",
    "    \n",
    "  def full_param_name(self):\n",
    "    return \"id{}ir{}\".format(self.final, self.reduce)\n",
    "  \n",
    "class PoolParam(ModelParam):\n",
    "  def __init__(self, name, size):\n",
    "    self.name = name\n",
    "    self.size = size\n",
    "    \n",
    "  def full_param_name(self):\n",
    "    return \"ps{}\".format(self.size)\n",
    "  \n",
    "class DropoutParam(ModelParam):\n",
    "  def __init__(self, name, keep_prob):\n",
    "    self.name = name\n",
    "    self.keep_prob = keep_prob\n",
    "    \n",
    "  def full_param_name(self):\n",
    "    return \"dp{}\".format(self.keep_prob)\n",
    "  \n",
    "class FullyConnectedParam(ModelParam):\n",
    "  def __init__(self, name, size):\n",
    "    self.name = name\n",
    "    self.size = size\n",
    "  def full_param_name(self):\n",
    "    return \"fcd{}\".format(self.size)\n",
    "  \n",
    "class BaseParam(ModelParam):\n",
    "  def __init__(self, epochs, rate, batch_size):\n",
    "    self.epochs = epochs\n",
    "    self.rate = rate\n",
    "    self.batch_size = batch_size\n",
    "    \n",
    "  def full_param_name(self):\n",
    "    return \"e{}r{}b{}\".format(self.epochs, self.rate, self.batch_size)\n",
    "\n",
    "def model_name(params, param_order):\n",
    "  return \"_\".join([params[k].full_param_name() for k in param_order])  "
   ]
  },
  {
   "cell_type": "code",
   "execution_count": 15,
   "metadata": {
    "collapsed": true
   },
   "outputs": [],
   "source": [
    "%matplotlib inline\n",
    "from sklearn.metrics import precision_recall_fscore_support\n",
    "\n",
    "def train_model(params, param_order, X_train, y_train, X_valid, y_valid, X_test, y_test):\n",
    "  model_shape = X_train[0].shape\n",
    "  num_keypoints = len(set(y_test))\n",
    "  params['out'].size = num_keypoints\n",
    "  model_variable_scope = model_name(params, param_order)\n",
    "  print(\"Model name:\", model_variable_scope)\n",
    "  graph = tf.Graph()\n",
    "  \n",
    "  with graph.as_default():\n",
    "    tf_x_batch = tf.placeholder(tf.float32, shape = (None, model_shape[0],  model_shape[1], model_shape[2]))\n",
    "    tf_y_batch = tf.placeholder(tf.int32, shape = (None))\n",
    "    is_training = tf.placeholder(tf.bool)\n",
    "    one_hot_y_batch = tf.one_hot(tf_y_batch, num_keypoints)\n",
    "    \n",
    "    # Training computation.\n",
    "    with tf.variable_scope(model_variable_scope):\n",
    "      logits = model_pass(tf_x_batch, is_training, params)\n",
    "\n",
    "    # This is what is run when training\n",
    "    cross_entropy = tf.nn.softmax_cross_entropy_with_logits(logits, one_hot_y_batch)\n",
    "    loss_operation = tf.reduce_mean(cross_entropy)\n",
    "    optimizer = tf.train.AdamOptimizer(learning_rate = params['base'].rate)\n",
    "    training_operation = optimizer.minimize(loss_operation)\n",
    "      \n",
    "    # This is what is run to evaluate the model\n",
    "    correct_prediction = tf.equal(tf.argmax(logits, 1), tf.argmax(one_hot_y_batch, 1))\n",
    "    accuracy_operation = tf.reduce_mean(tf.cast(correct_prediction, tf.float32))\n",
    "    saver = tf.train.Saver()\n",
    "\n",
    "  with tf.Session(graph = graph) as session:\n",
    "    # Initialise all variables in the graph\n",
    "    print(\"Initalize vars\")\n",
    "    session.run(tf.global_variables_initializer())\n",
    "    \n",
    "    def evaluate(X_data, y_data, batch_size):\n",
    "      print(\"evaluate\")\n",
    "      batch = Batch(batch_size, X_data, y_data)\n",
    "      total_accuracy = 0\n",
    "      for batch_x, batch_y in batch.iterator():\n",
    "          accuracy = session.run(accuracy_operation, feed_dict={tf_x_batch: batch_x, tf_y_batch: batch_y, is_training: False})\n",
    "          total_accuracy += (accuracy * len(batch_x))\n",
    "      return total_accuracy / len(X_data)\n",
    "\n",
    "    def evaluate_precision_recall(X_data, y_data, batch_size):\n",
    "        y_pred = []\n",
    "        batch = Batch(batch_size, X_data, y_data)\n",
    "        for batch_x, batch_y in batch.iterator():\n",
    "            batch_y_pred = session.run(tf.argmax(logits, 1), feed_dict={tf_x_batch: batch_x, tf_y_batch: batch_y, is_training: False})\n",
    "            y_pred.append(batch_y_pred)\n",
    "            \n",
    "        y_pred = np.concatenate(y_pred)    \n",
    "        precision, recall, f1_score, label_count = precision_recall_fscore_support(y_data, y_pred)\n",
    "\n",
    "        plt.plot(range(len(precision)), precision, marker='o', color='r')\n",
    "        plt.plot(range(len(precision)), recall, marker='o', color='g')\n",
    "        plt.plot(range(len(precision)), f1_score, marker='o', color='b')\n",
    "        plt.show()\n",
    "    \n",
    "    print(\"Training...\")\n",
    "    print()\n",
    "    for i in range(params['base'].epochs):\n",
    "        X_train, y_train = shuffle(X_train, y_train)\n",
    "        batch = Batch(params['base'].batch_size, X_train, y_train)\n",
    "        for batch_x, batch_y in batch.iterator(): \n",
    "            session.run(training_operation, feed_dict={tf_x_batch: batch_x, tf_y_batch: batch_y, is_training: True})\n",
    "        \n",
    "        print(\"Finished training model.\")\n",
    "        validation_accuracy = evaluate(X_valid, y_valid, params['base'].batch_size)\n",
    "        print(\"EPOCH {} ...\".format(i+1))\n",
    "        print(\"Validation Accuracy = {:.3f}\".format(validation_accuracy))\n",
    "        print()\n",
    "    \n",
    "    evaluate_precision_recall(X_valid, y_valid, params['base'].batch_size)\n",
    "        \n",
    "    saver.save(session, model_variable_scope)\n",
    "    print(\"Model saved\") "
   ]
  },
  {
   "cell_type": "code",
   "execution_count": 16,
   "metadata": {
    "collapsed": false
   },
   "outputs": [
    {
     "name": "stdout",
     "output_type": "stream",
     "text": [
      "Model name: ck5cd8_id8ir8_id16ir8_fcd8_dp0.5_fcd10_fcd8_e1r0.001b1\n",
      "Initalize vars\n",
      "Training...\n",
      "\n",
      "Finished training model.\n",
      "evaluate\n",
      "EPOCH 1 ...\n",
      "Validation Accuracy = 0.000\n",
      "\n"
     ]
    },
    {
     "name": "stderr",
     "output_type": "stream",
     "text": [
      "/Users/kyledorman/anaconda/envs/CarND-Traffic-Sign-Classifier-Project/lib/python3.5/site-packages/sklearn/metrics/classification.py:1113: UndefinedMetricWarning: Precision and F-score are ill-defined and being set to 0.0 in labels with no predicted samples.\n",
      "  'precision', 'predicted', average, warn_for)\n",
      "/Users/kyledorman/anaconda/envs/CarND-Traffic-Sign-Classifier-Project/lib/python3.5/site-packages/sklearn/metrics/classification.py:1115: UndefinedMetricWarning: Recall and F-score are ill-defined and being set to 0.0 in labels with no true samples.\n",
      "  'recall', 'true', average, warn_for)\n"
     ]
    },
    {
     "data": {
      "image/png": "[encoded data removed]",
      "text/plain": [
       "<matplotlib.figure.Figure at 0x189b9d8d0>"
      ]
     },
     "metadata": {},
     "output_type": "display_data"
    },
    {
     "name": "stdout",
     "output_type": "stream",
     "text": [
      "Model saved\n"
     ]
    }
   ],
   "source": [
    "local_params = {\n",
    "  'conv1': ConvParam(\"conv1\", 5, 8),\n",
    "  'inception1': InceptionParam(\"inception1\", 8, 8),\n",
    "  'inception2': InceptionParam(\"inception2\", 16, 8),\n",
    "  'fc1': FullyConnectedParam('fc1', 8),\n",
    "  'dropout1': DropoutParam('dropout1', 0.5),\n",
    "  'fc2': FullyConnectedParam('fc2', 10),\n",
    "  'out': FullyConnectedParam('out', None), # set in train_model\n",
    "  'base': BaseParam(epochs=1, rate=0.001, batch_size=1)\n",
    "}\n",
    "\n",
    "aws_params = {\n",
    "  'conv1': ConvParam(\"conv1\", 5, 16),\n",
    "  'inception1': InceptionParam(\"inception1\", 32, 16),\n",
    "  'inception2': InceptionParam(\"inception2\", 64, 16),\n",
    "  'fc1': FullyConnectedParam('fc1', 64),\n",
    "  'dropout1': DropoutParam('dropout1', 0.7),\n",
    "  'fc2': FullyConnectedParam('fc2', 128),\n",
    "  'out': FullyConnectedParam('out', None), # set in train_model\n",
    "  'base': BaseParam(epochs=10, rate=0.001, batch_size=32)\n",
    "}\n",
    "\n",
    "param_order = ['conv1', 'inception1', 'inception2', 'fc1', 'dropout1', 'fc2', 'out', 'base']\n",
    "\n",
    "train_model(local_params, param_order, X_train[0:10], y_train[0:10], X_valid[0:10], y_valid[0:10], X_test[0:10], y_test[0:10])"
   ]
  },
  {
   "cell_type": "code",
   "execution_count": null,
   "metadata": {
    "collapsed": false
   },
   "outputs": [],
   "source": [
    "ready_for_testing = False\n",
    "if ready_for_teting:\n",
    "  with tf.Session(graph = graph) as sess:\n",
    "      saver.restore(sess, tf.train.latest_checkpoint('.'))\n",
    "\n",
    "      test_accuracy = evaluate(X_test, y_test, sess)\n",
    "      print(\"Test Accuracy = {:.3f}\".format(test_accuracy))"
   ]
  },
  {
   "cell_type": "markdown",
   "metadata": {},
   "source": [
    "### Question 4\n",
    "\n",
    "_How did you train your model? (Type of optimizer, batch size, epochs, hyperparameters, etc.)_\n"
   ]
  },
  {
   "cell_type": "markdown",
   "metadata": {},
   "source": [
    "**Answer:** \n",
    "I used the AdamOptamizer for this project. It seemed to work fine, although I did not spend the time to test a different optamizer. My batch size was very small, 4. I am not sure if I just had too many model paramameters or too large of a model but I struggled to fit my model in the GPU with anything larger (8, 16 ect). I tested different epoch sizes and felt like 100 was a good size, although a better method would be to stop training one the validation dataset stops improving. I used the xavier_initializer to initialize the weights and set the initial biases to 0. My learning rate was 0.001. I did not mess with this parameter at all because I assumed a small learning rate was a good way to allow my model to learn. This is something I would play with in the future. \n",
    "\n",
    "Other hyperparameters include the depths of different layers, the size of some kernals in my CNNs, and my dropout rate between the two fully connected layers. I stared with dropouts around 0.5 but prograssivly moved it up to 0.8 as I seemed to get better results this way. I chose a first kernal size of 5 because that is what the paper did. From there I think the inception module provides an easy way to guarentee I get good results for different kernal sizes. \n",
    "\n",
    "I liked working with the inception module because it created a way for me to have less hypter paraemters to deal with. "
   ]
  },
  {
   "cell_type": "markdown",
   "metadata": {},
   "source": [
    "### Question 5\n",
    "\n",
    "\n",
    "_What approach did you take in coming up with a solution to this problem? It may have been a process of trial and error, in which case, outline the steps you took to get to the final solution and why you chose those steps. Perhaps your solution involved an already well known implementation or architecture. In this case, discuss why you think this is suitable for the current problem._"
   ]
  },
  {
   "cell_type": "markdown",
   "metadata": {},
   "source": [
    "**Answer:**\n",
    "I definetly user a process of trial and error for this project. I stated with the LeNet5 architicture as a baseline. This was iteration 0. This actually had a very good success rate around 95% on the validation set. I could have continued to tweek the depth parameters of the model and maybe gotten a better score. \n",
    "\n",
    "I then read the LeCunn paper and tried to reimpliment thier model. This was a pretty good model. I initally wanted to get rid of the max pooling and add dropout. I wanted to get rid of the max pooling because seems to be falling out of favor. I also wanted to add dropout because this is a good way to prevent over fitting. For this iteration fo the model, I ended up needing to add pooling to reduce my model size. The last part of the LeCunn paper talked about using the results from the first 3 CNN layers in the fuly connected layer. The paper also said this had a significant positive effect on the final result. To me this sounded like an early days inception module so I decided to create a new version with inception modules. \n",
    "\n",
    "After reading this [article](https://hacktilldawn.com/2016/09/25/inception-modules-explained-and-implemented/) and looking at the GooLeNet architechture, I decided to replace my middle two CNNs with inception modules. This felt right beause it still used a model about the size of the LeCunn moel but added a more sophisticated inception module. More trial and error is need to decide if that is the right solution. \n",
    "\n",
    "From there, I continued to tweak the model hyperparameters through trial and error. "
   ]
  },
  {
   "cell_type": "markdown",
   "metadata": {},
   "source": [
    "---\n",
    "\n",
    "## Step 3: Test a Model on New Images\n",
    "\n",
    "Take several pictures of traffic signs that you find on the web or around you (at least five), and run them through your classifier on your computer to produce example results. The classifier might not recognize some local signs but it could prove interesting nonetheless.\n",
    "\n",
    "You may find `signnames.csv` useful as it contains mappings from the class id (integer) to the actual sign name."
   ]
  },
  {
   "cell_type": "markdown",
   "metadata": {},
   "source": [
    "### Implementation\n",
    "\n",
    "Use the code cell (or multiple code cells, if necessary) to implement the first step of your project. Once you have completed your implementation and are satisfied with the results, be sure to thoroughly answer the questions that follow."
   ]
  },
  {
   "cell_type": "code",
   "execution_count": null,
   "metadata": {
    "collapsed": true
   },
   "outputs": [],
   "source": [
    "### Load the images and plot them here.\n",
    "### Feel free to use as many code cells as needed."
   ]
  },
  {
   "cell_type": "markdown",
   "metadata": {},
   "source": [
    "### Question 6\n",
    "\n",
    "_Choose five candidate images of traffic signs and provide them in the report. Are there any particular qualities of the image(s) that might make classification difficult? It could be helpful to plot the images in the notebook._\n",
    "\n"
   ]
  },
  {
   "cell_type": "markdown",
   "metadata": {},
   "source": [
    "**Answer:**"
   ]
  },
  {
   "cell_type": "code",
   "execution_count": null,
   "metadata": {
    "collapsed": true
   },
   "outputs": [],
   "source": [
    "### Run the predictions here.\n",
    "### Feel free to use as many code cells as needed."
   ]
  },
  {
   "cell_type": "markdown",
   "metadata": {},
   "source": [
    "### Question 7\n",
    "\n",
    "_Is your model able to perform equally well on captured pictures when compared to testing on the dataset? The simplest way to do this check the accuracy of the predictions. For example, if the model predicted 1 out of 5 signs correctly, it's 20% accurate._\n",
    "\n",
    "_**NOTE:** You could check the accuracy manually by using `signnames.csv` (same directory). This file has a mapping from the class id (0-42) to the corresponding sign name. So, you could take the class id the model outputs, lookup the name in `signnames.csv` and see if it matches the sign from the image._\n"
   ]
  },
  {
   "cell_type": "markdown",
   "metadata": {},
   "source": [
    "**Answer:**"
   ]
  },
  {
   "cell_type": "code",
   "execution_count": null,
   "metadata": {
    "collapsed": true
   },
   "outputs": [],
   "source": [
    "### Visualize the softmax probabilities here.\n",
    "### Feel free to use as many code cells as needed."
   ]
  },
  {
   "cell_type": "markdown",
   "metadata": {},
   "source": [
    "### Question 8\n",
    "\n",
    "*Use the model's softmax probabilities to visualize the **certainty** of its predictions, [`tf.nn.top_k`](https://www.tensorflow.org/versions/r0.12/api_docs/python/nn.html#top_k) could prove helpful here. Which predictions is the model certain of? Uncertain? If the model was incorrect in its initial prediction, does the correct prediction appear in the top k? (k should be 5 at most)*\n",
    "\n",
    "`tf.nn.top_k` will return the values and indices (class ids) of the top k predictions. So if k=3, for each sign, it'll return the 3 largest probabilities (out of a possible 43) and the correspoding class ids.\n",
    "\n",
    "Take this numpy array as an example:\n",
    "\n",
    "```\n",
    "# (5, 6) array\n",
    "a = np.array([[ 0.24879643,  0.07032244,  0.12641572,  0.34763842,  0.07893497,\n",
    "         0.12789202],\n",
    "       [ 0.28086119,  0.27569815,  0.08594638,  0.0178669 ,  0.18063401,\n",
    "         0.15899337],\n",
    "       [ 0.26076848,  0.23664738,  0.08020603,  0.07001922,  0.1134371 ,\n",
    "         0.23892179],\n",
    "       [ 0.11943333,  0.29198961,  0.02605103,  0.26234032,  0.1351348 ,\n",
    "         0.16505091],\n",
    "       [ 0.09561176,  0.34396535,  0.0643941 ,  0.16240774,  0.24206137,\n",
    "         0.09155967]])\n",
    "```\n",
    "\n",
    "Running it through `sess.run(tf.nn.top_k(tf.constant(a), k=3))` produces:\n",
    "\n",
    "```\n",
    "TopKV2(values=array([[ 0.34763842,  0.24879643,  0.12789202],\n",
    "       [ 0.28086119,  0.27569815,  0.18063401],\n",
    "       [ 0.26076848,  0.23892179,  0.23664738],\n",
    "       [ 0.29198961,  0.26234032,  0.16505091],\n",
    "       [ 0.34396535,  0.24206137,  0.16240774]]), indices=array([[3, 0, 5],\n",
    "       [0, 1, 4],\n",
    "       [0, 5, 1],\n",
    "       [1, 3, 5],\n",
    "       [1, 4, 3]], dtype=int32))\n",
    "```\n",
    "\n",
    "Looking just at the first row we get `[ 0.34763842,  0.24879643,  0.12789202]`, you can confirm these are the 3 largest probabilities in `a`. You'll also notice `[3, 0, 5]` are the corresponding indices."
   ]
  },
  {
   "cell_type": "markdown",
   "metadata": {},
   "source": [
    "**Answer:**"
   ]
  },
  {
   "cell_type": "markdown",
   "metadata": {},
   "source": [
    "> **Note**: Once you have completed all of the code implementations and successfully answered each question above, you may finalize your work by exporting the iPython Notebook as an HTML document. You can do this by using the menu above and navigating to  \\n\",\n",
    "    \"**File -> Download as -> HTML (.html)**. Include the finished document along with this notebook as your submission."
   ]
  },
  {
   "cell_type": "code",
   "execution_count": null,
   "metadata": {
    "collapsed": true
   },
   "outputs": [],
   "source": []
  }
 ],
 "metadata": {
  "anaconda-cloud": {},
  "kernelspec": {
   "display_name": "Python 3",
   "language": "python",
   "name": "python3"
  },
  "language_info": {
   "codemirror_mode": {
    "name": "ipython",
    "version": 3
   },
   "file_extension": ".py",
   "mimetype": "text/x-python",
   "name": "python",
   "nbconvert_exporter": "python",
   "pygments_lexer": "ipython3",
   "version": "3.5.2"
  },
  "widgets": {
   "state": {},
   "version": "1.1.2"
  }
 },
 "nbformat": 4,
 "nbformat_minor": 1
}
