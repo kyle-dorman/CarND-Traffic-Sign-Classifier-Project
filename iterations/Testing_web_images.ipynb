{
 "cells": [
  {
   "cell_type": "code",
   "execution_count": null,
   "metadata": {
    "collapsed": false
   },
   "outputs": [],
   "source": [
    "import cv2\n",
    "import matplotlib.pyplot as plt\n",
    "import csv\n",
    "%matplotlib inline\n",
    "\n",
    "def load_csv_to_dict(csv_file):\n",
    "  with open(csv_file, mode='r') as infile:\n",
    "    reader = csv.reader(infile)\n",
    "    return {rows[0]:rows[1] for rows in reader}\n",
    "  \n",
    "sign_dict = load_csv_to_dict(\"../signnames.csv\")\n",
    "sign_dict"
   ]
  },
  {
   "cell_type": "code",
   "execution_count": null,
   "metadata": {
    "collapsed": false
   },
   "outputs": [],
   "source": [
    "import os\n",
    "def image_file(name):\n",
    "  extensions = ['.jpg', '.jpeg']\n",
    "  for ext in extensions:\n",
    "    if os.path.isfile(\"../web_images/\" + name + ext):\n",
    "      return \"../web_images/\" + name + ext\n",
    "\n",
    "for i in range(43):\n",
    "  img_name = image_file(\"g_{}\".format(i))\n",
    "  img = cv2.imread(img_name)\n",
    "\n",
    "  b,g,r = cv2.split(img)\n",
    "  img = cv2.merge((r,g,b))\n",
    "  \n",
    "  print(\"image\", i, \":\", sign_dict[str(i)])\n",
    "  print(\"image shape:\", img.shape)\n",
    "  \n",
    "  plt.imshow(img)\n",
    "  plt.show()"
   ]
  },
  {
   "cell_type": "code",
   "execution_count": null,
   "metadata": {
    "collapsed": false
   },
   "outputs": [],
   "source": [
    "for i in range(43):\n",
    "  img_name = image_file(\"g_{}\".format(i))\n",
    "  img = cv2.imread(img_name)\n",
    "  b,g,r = cv2.split(img)\n",
    "  img = cv2.merge((r,g,b))\n",
    "  res = cv2.resize(img, (32, 32), interpolation = cv2.INTER_AREA)\n",
    "  \n",
    "  print(\"image\", i, \":\", sign_dict[str(i)])\n",
    "  print(\"image shape:\", res.shape)\n",
    "  \n",
    "  fig = plt.figure(figsize = (2, 1))\n",
    "  fig.subplots_adjust(left = 0, right = 1, bottom = 0, top = 1, hspace = 0.05, wspace = 0.05)\n",
    "  axis1 = fig.add_subplot(1, 2, 1, xticks=[], yticks=[])\n",
    "  axis2 = fig.add_subplot(1, 2, 2, xticks=[], yticks=[])\n",
    "  axis1.imshow(res.squeeze())\n",
    "  axis2.imshow(img.squeeze())\n",
    "  plt.show()\n",
    "\n"
   ]
  },
  {
   "cell_type": "code",
   "execution_count": 7,
   "metadata": {
    "collapsed": false
   },
   "outputs": [
    {
     "name": "stdout",
     "output_type": "stream",
     "text": [
      "Loading web image data.\n",
      "Already created web image file.\n",
      "Unpickling file web_images.\n",
      "Returning web_images as ProjectDataSet(features, labels).\n"
     ]
    },
    {
     "data": {
      "text/plain": [
       "<reusable.file_loader.ProjectDataSet at 0x10f9bb198>"
      ]
     },
     "execution_count": 7,
     "metadata": {},
     "output_type": "execute_result"
    }
   ],
   "source": [
    "from reusable import web_images_loader\n",
    "\n",
    "web_images_loader.load()"
   ]
  }
 ],
 "metadata": {
  "kernelspec": {
   "display_name": "Python 3",
   "language": "python",
   "name": "python3"
  },
  "language_info": {
   "codemirror_mode": {
    "name": "ipython",
    "version": 3
   },
   "file_extension": ".py",
   "mimetype": "text/x-python",
   "name": "python",
   "nbconvert_exporter": "python",
   "pygments_lexer": "ipython3",
   "version": "3.5.2"
  },
  "widgets": {
   "state": {},
   "version": "1.1.2"
  }
 },
 "nbformat": 4,
 "nbformat_minor": 2
}
