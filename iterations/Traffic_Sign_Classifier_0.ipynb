{
 "cells": [
  {
   "cell_type": "markdown",
   "metadata": {},
   "source": [
    "# Self-Driving Car Engineer Nanodegree\n",
    "\n",
    "## Deep Learning\n",
    "\n",
    "## Project: Build a Traffic Sign Recognition Classifier\n",
    "\n",
    "In this notebook, a template is provided for you to implement your functionality in stages which is required to successfully complete this project. If additional code is required that cannot be included in the notebook, be sure that the Python code is successfully imported and included in your submission, if necessary. Sections that begin with **'Implementation'** in the header indicate where you should begin your implementation for your project. Note that some sections of implementation are optional, and will be marked with **'Optional'** in the header.\n",
    "\n",
    "In addition to implementing code, there will be questions that you must answer which relate to the project and your implementation. Each section where you will answer a question is preceded by a **'Question'** header. Carefully read each question and provide thorough answers in the following text boxes that begin with **'Answer:'**. Your project submission will be evaluated based on your answers to each of the questions and the implementation you provide.\n",
    "\n",
    ">**Note:** Code and Markdown cells can be executed using the **Shift + Enter** keyboard shortcut. In addition, Markdown cells can be edited by typically double-clicking the cell to enter edit mode."
   ]
  },
  {
   "cell_type": "markdown",
   "metadata": {},
   "source": [
    "---\n",
    "## Step 0: Load The Data"
   ]
  },
  {
   "cell_type": "code",
   "execution_count": 1,
   "metadata": {
    "collapsed": false
   },
   "outputs": [
    {
     "name": "stdout",
     "output_type": "stream",
     "text": [
      "Loading project data.\n",
      "traffic-signs-data.zip already downloaded.\n",
      "Data already unzipped.\n",
      "Unpickling file train.p.\n",
      "Unpickling file test.p.\n",
      "Returning ProjectData(train, test).\n",
      "Done!\n"
     ]
    }
   ],
   "source": [
    "# Load pickled data\n",
    "import pickle\n",
    "from reusable import file_loader\n",
    "from reusable import load\n",
    "from reusable import preprocessor\n",
    "import csv\n",
    "import numpy as np\n",
    "\n",
    "data = load.load_project_data()\n",
    "\n",
    "print(\"Done!\")\n",
    "\n",
    "X_train, y_train = (data.train.features, data.train.labels)\n",
    "X_test, y_test = (data.test.features, data.test.labels)\n",
    "\n",
    "X_train, y_train = X_train[0:40], y_train[0:40]\n",
    "X_test, y_test = X_test[0:10], y_test[0:10]"
   ]
  },
  {
   "cell_type": "code",
   "execution_count": 2,
   "metadata": {
    "collapsed": false
   },
   "outputs": [],
   "source": [
    "iteration = \"0\""
   ]
  },
  {
   "cell_type": "markdown",
   "metadata": {},
   "source": [
    "---\n",
    "\n",
    "## Step 1: Dataset Summary & Exploration\n",
    "\n",
    "The pickled data is a dictionary with 4 key/value pairs:\n",
    "\n",
    "- `'features'` is a 4D array containing raw pixel data of the traffic sign images, (num examples, width, height, channels).\n",
    "- `'labels'` is a 2D array containing the label/class id of the traffic sign. The file `signnames.csv` contains id -> name mappings for each id.\n",
    "- `'sizes'` is a list containing tuples, (width, height) representing the the original width and height the image.\n",
    "- `'coords'` is a list containing tuples, (x1, y1, x2, y2) representing coordinates of a bounding box around the sign in the image. **THESE COORDINATES ASSUME THE ORIGINAL IMAGE. THE PICKLED DATA CONTAINS RESIZED VERSIONS (32 by 32) OF THESE IMAGES**\n",
    "\n",
    "Complete the basic data summary below."
   ]
  },
  {
   "cell_type": "code",
   "execution_count": 3,
   "metadata": {
    "collapsed": false
   },
   "outputs": [
    {
     "name": "stdout",
     "output_type": "stream",
     "text": [
      "Number of training examples = 40\n",
      "Number of testing examples = 10\n",
      "Image data shape = (32, 32, 3)\n",
      "Number of classes = 1\n"
     ]
    }
   ],
   "source": [
    "### Replace each question mark with the appropriate value.\n",
    "\n",
    "# TODO: Number of training examples\n",
    "n_train = len(X_train)\n",
    "\n",
    "# TODO: Number of testing examples.\n",
    "n_test = len(X_test)\n",
    "\n",
    "# TODO: What's the shape of an traffic sign image?\n",
    "image_shape = (len(X_train[0]), len(X_train[0][0]), len(X_train[0][0][0]))\n",
    "\n",
    "# TODO: How many unique classes/labels there are in the dataset.\n",
    "n_classes = len(set(y_train))\n",
    "\n",
    "print(\"Number of training examples =\", n_train)\n",
    "print(\"Number of testing examples =\", n_test)\n",
    "print(\"Image data shape =\", image_shape)\n",
    "print(\"Number of classes =\", n_classes)"
   ]
  },
  {
   "cell_type": "markdown",
   "metadata": {},
   "source": [
    "Visualize the German Traffic Signs Dataset using the pickled file(s). This is open ended, suggestions include: plotting traffic sign images, plotting the count of each sign, etc.\n",
    "\n",
    "The [Matplotlib](http://matplotlib.org/) [examples](http://matplotlib.org/examples/index.html) and [gallery](http://matplotlib.org/gallery.html) pages are a great resource for doing visualizations in Python.\n",
    "\n",
    "**NOTE:** It's recommended you start with something simple first. If you wish to do more, come back to it after you've completed the rest of the sections."
   ]
  },
  {
   "cell_type": "code",
   "execution_count": 4,
   "metadata": {
    "collapsed": false
   },
   "outputs": [
    {
     "name": "stdout",
     "output_type": "stream",
     "text": [
      "Speed limit (20km/h)\n"
     ]
    },
    {
     "data": {
      "image/png": "[encoded data removed]",
      "text/plain": [
       "<matplotlib.figure.Figure at 0x10c633c88>"
      ]
     },
     "metadata": {},
     "output_type": "display_data"
    }
   ],
   "source": [
    "### Data exploration visualization goes here.\n",
    "### Feel free to use as many code cells as needed.\n",
    "import matplotlib.pyplot as plt\n",
    "import csv\n",
    "import numpy as np\n",
    "import random\n",
    "# Visualizations will be shown in the notebook.\n",
    "%matplotlib inline\n",
    "\n",
    "def load_csv_to_dict(csv_file):\n",
    "  with open(csv_file, mode='r') as infile:\n",
    "    reader = csv.reader(infile)\n",
    "    return {rows[0]:rows[1] for rows in reader}\n",
    "  \n",
    "sign_dict = load_csv_to_dict(\"../signnames.csv\")\n",
    "\n",
    "index = random.randint(0, len(X_train))\n",
    "image = X_train[index].squeeze()\n",
    "\n",
    "plt.figure(figsize=(1,1))\n",
    "plt.imshow(image)\n",
    "print(sign_dict[str(y_train[index])])"
   ]
  },
  {
   "cell_type": "code",
   "execution_count": 5,
   "metadata": {
    "collapsed": false
   },
   "outputs": [
    {
     "name": "stdout",
     "output_type": "stream",
     "text": [
      "[('Speed limit (20km/h)', 40)]\n",
      "[('Speed limit (20km/h)', 40)]\n"
     ]
    },
    {
     "data": {
      "image/png": "[encoded data removed]",
      "text/plain": [
       "<matplotlib.figure.Figure at 0x1208626d8>"
      ]
     },
     "metadata": {},
     "output_type": "display_data"
    },
    {
     "name": "stdout",
     "output_type": "stream",
     "text": [
      "[('Speed limit (30km/h)', 1), ('Right-of-way at the next intersection', 1), ('Priority road', 1), ('Vehicles over 3.5 metric tons prohibited', 1), ('General caution', 1)]\n",
      "[('Keep right', 2), ('Speed limit (30km/h)', 1), ('Right-of-way at the next intersection', 1), ('Priority road', 1), ('Vehicles over 3.5 metric tons prohibited', 1)]\n"
     ]
    },
    {
     "data": {
      "image/png": "[encoded data removed]",
      "text/plain": [
       "<matplotlib.figure.Figure at 0x120a489b0>"
      ]
     },
     "metadata": {},
     "output_type": "display_data"
    }
   ],
   "source": [
    "### Count number of each sign in test and train datasets\n",
    "import matplotlib.mlab as mlab\n",
    "import matplotlib.pyplot as plt\n",
    "%matplotlib inline\n",
    "\n",
    "def hist(data, name):\n",
    "  indicies, counts = np.unique(data, return_counts=True)\n",
    "  # the histogram of the data\n",
    "  n, bins, patches = plt.hist(data, len(indicies), facecolor='green')\n",
    "\n",
    "  plt.xlabel('Sign index')\n",
    "  plt.ylabel('Count')\n",
    "  plt.title('Count  of dataset ' + name)\n",
    "  plt.axis([0, len(indicies), 0, max(counts)])\n",
    "  plt.grid(True)\n",
    "\n",
    "  plt.show()\n",
    "  \n",
    "def min_counts(data, num_to_print=5):\n",
    "  indicies, counts = np.unique(data, return_counts=True)\n",
    "  arr = sorted(list(zip(indicies, counts)), key=lambda x: x[1])\n",
    "  print([(sign_dict[str(sign[0])], sign[1]) for sign in arr[0:num_to_print]])\n",
    "\n",
    "def max_counts(data, num_to_print=5):\n",
    "  indicies, counts = np.unique(data, return_counts=True)\n",
    "  arr = sorted(list(zip(indicies, counts)), key=lambda x: x[1], reverse=True)\n",
    "  print([(sign_dict[str(sign[0])], sign[1]) for sign in arr[0:num_to_print]])\n",
    "  \n",
    "  \n",
    "min_counts(y_train)\n",
    "max_counts(y_train)\n",
    "hist(y_test, 'test')\n",
    "\n",
    "min_counts(y_test)\n",
    "max_counts(y_test)\n",
    "hist(y_train, 'train')"
   ]
  },
  {
   "cell_type": "markdown",
   "metadata": {},
   "source": [
    "----\n",
    "\n",
    "## Step 2: Design and Test a Model Architecture\n",
    "\n",
    "Design and implement a deep learning model that learns to recognize traffic signs. Train and test your model on the [German Traffic Sign Dataset](http://benchmark.ini.rub.de/?section=gtsrb&subsection=dataset).\n",
    "\n",
    "There are various aspects to consider when thinking about this problem:\n",
    "\n",
    "- Neural network architecture\n",
    "- Play around preprocessing techniques (normalization, rgb to grayscale, etc)\n",
    "- Number of examples per label (some have more than others).\n",
    "- Generate fake data.\n",
    "\n",
    "Here is an example of a [published baseline model on this problem](http://yann.lecun.com/exdb/publis/pdf/sermanet-ijcnn-11.pdf). It's not required to be familiar with the approach used in the paper but, it's good practice to try to read papers like these.\n",
    "\n",
    "**NOTE:** The LeNet-5 implementation shown in the [classroom](https://classroom.udacity.com/nanodegrees/nd013/parts/fbf77062-5703-404e-b60c-95b78b2f3f9e/modules/6df7ae49-c61c-4bb2-a23e-6527e69209ec/lessons/601ae704-1035-4287-8b11-e2c2716217ad/concepts/d4aca031-508f-4e0b-b493-e7b706120f81) at the end of the CNN lesson is a solid starting point. You'll have to change the number of classes and possibly the preprocessing, but aside from that it's plug and play!"
   ]
  },
  {
   "cell_type": "markdown",
   "metadata": {},
   "source": [
    "### Implementation\n",
    "\n",
    "Use the code cell (or multiple code cells, if necessary) to implement the first step of your project. Once you have completed your implementation and are satisfied with the results, be sure to thoroughly answer the questions that follow."
   ]
  },
  {
   "cell_type": "markdown",
   "metadata": {
    "collapsed": true
   },
   "source": [
    "#### Preprocess Steps\n",
    "\n",
    "1. Equalize number of data points (Optional)\n",
    "2. Add some randomly generated images and an extra label (\"none\"). This will allow the model to tell us when it can't classify an image. \n",
    "3. Convert to greyscale\n",
    "2. Scale between -1 and 1\n",
    "5. Split out validation data"
   ]
  },
  {
   "cell_type": "markdown",
   "metadata": {},
   "source": [
    "The first thing I notice is that in the training set there are over 2000 \"speed limit 50 km/h\" signs and only 210 \"speed limit 20 km/h\" signs. That is interesting because those signs specifically are almost the same. The only differnece being a '2' and a '5'. My fear is that having 10x more data of one sign will lead to the network biasing towards the more common sign. I am going to write a function to equalize the number of signs. Its unclear if this si a good idea because it will greatly reduce the overall number of datapoints avaialable. "
   ]
  },
  {
   "cell_type": "code",
   "execution_count": 6,
   "metadata": {
    "collapsed": false
   },
   "outputs": [],
   "source": [
    "### equalize total number of signs. Signs should be shuffled before running this function. \n",
    "### This function takes the number of train samples down from 39209 to 9030 and the test set from 12630 to 2580.\n",
    "def equalize(X_data, y_data):\n",
    "  indicies, counts = np.unique(y_data, return_counts=True)\n",
    "  min_count = min(counts)\n",
    "  \n",
    "  index_count = np.zeros(max(indicies)+1)\n",
    "  X_result = []\n",
    "  y_result = []\n",
    "  for i in range(len(X_data)):\n",
    "    sign_index = y_data[i]\n",
    "    if index_count[sign_index] < min_count:\n",
    "      X_result.append(X_data[i])\n",
    "      y_result.append(y_data[i])\n",
    "      index_count[sign_index] += 1\n",
    "\n",
    "  return (X_result, y_result)\n",
    "\n",
    "# test_x, test_y = equalize(X_test, y_test)"
   ]
  },
  {
   "cell_type": "markdown",
   "metadata": {},
   "source": [
    "I think it is helpful to normalize the image data between -1 and 1, so I will add a function for that. "
   ]
  },
  {
   "cell_type": "code",
   "execution_count": 7,
   "metadata": {
    "collapsed": false
   },
   "outputs": [],
   "source": [
    "### Normalize data\n",
    "def scale(X_data):\n",
    "  return np.divide(np.subtract(np.array(X_data, dtype='float32'), 128), 128)"
   ]
  },
  {
   "cell_type": "markdown",
   "metadata": {},
   "source": [
    "There is no reason an image has to have a sign in it. It that is the case, the model should return \"none\"."
   ]
  },
  {
   "cell_type": "code",
   "execution_count": 8,
   "metadata": {
    "collapsed": true
   },
   "outputs": [],
   "source": [
    "def add_fake_data(X_data, y_data, num_points):\n",
    "  shape = (len(X_data[0]), len(X_data[0][0]), len(X_data[0][0][0]))\n",
    "  new_index = max(y_data) + 1\n",
    "  max_val = np.max(X_data)\n",
    "  min_val = np.min(X_data)\n",
    "  \n",
    "  for i in range(num_points):\n",
    "    X_data.append(fake_data_point(shape, min_val, max_val))\n",
    "    y_data.append(new_index)\n",
    "  return (X_data, y_data)\n",
    "    \n",
    "def fake_data_point(shape, min_val, max_val):\n",
    "  data = np.zeros(shape, dtype='int8')\n",
    "  for i in range(shape[0]):\n",
    "    for j in range(shape[1]):\n",
    "      for k in range(shape[2]):\n",
    "        data[i][j][k] = random.randint(min_val, max_val)\n",
    "      \n",
    "  return data"
   ]
  },
  {
   "cell_type": "markdown",
   "metadata": {},
   "source": [
    "In theory, the neural network should be robust enough to not require converting to greyscale, but because we don't actually have that many data points, I think converting to greyscale first will help. TODO, come back to how it will help. "
   ]
  },
  {
   "cell_type": "code",
   "execution_count": 9,
   "metadata": {
    "collapsed": false
   },
   "outputs": [],
   "source": [
    "def to_greyscale(X_data):\n",
    "  return [rgb2gray(image) for image in X_data]\n",
    "\n",
    "def rgb2gray(rgb):\n",
    "    gray = np.dot(rgb[...,:3], [0.299, 0.587, 0.114])\n",
    "    return [[[val] for val in row] for row in gray]"
   ]
  },
  {
   "cell_type": "code",
   "execution_count": 10,
   "metadata": {
    "collapsed": false
   },
   "outputs": [
    {
     "name": "stdout",
     "output_type": "stream",
     "text": [
      "Loading project data.\n",
      "traffic-signs-data.zip already downloaded.\n",
      "Data already unzipped.\n",
      "Unpickling file train.p.\n",
      "Unpickling file test.p.\n",
      "Returning ProjectData(train, test).\n",
      "Done!\n"
     ]
    }
   ],
   "source": [
    "### Reset data before resetting pipeline\n",
    "train_pipeline_complete = False\n",
    "test_pipeline_complete = False\n",
    "\n",
    "data = load.load_project_data()\n",
    "\n",
    "print(\"Done!\")\n",
    "\n",
    "X_train, y_train = (data.train.features, data.train.labels)\n",
    "X_test, y_test = (data.test.features, data.test.labels)\n"
   ]
  },
  {
   "cell_type": "code",
   "execution_count": 11,
   "metadata": {
    "collapsed": false
   },
   "outputs": [
    {
     "name": "stdout",
     "output_type": "stream",
     "text": [
      "Starting pipeline for training data.\n",
      "Finished pipeline for training data.\n",
      "Starting pipeline for test data.\n",
      "Finished pipeline for test data.\n"
     ]
    }
   ],
   "source": [
    "### Pipeline\n",
    "import sklearn\n",
    "from sklearn.utils import shuffle\n",
    "from sklearn.model_selection import train_test_split\n",
    "\n",
    "# Don't run this twice\n",
    "if train_pipeline_complete == False:\n",
    "  print(\"Starting pipeline for training data.\")\n",
    "#   X_train, y_train = equalize(X_train, y_train)\n",
    "#   indicies, counts = np.unique(y_train, return_counts=True)\n",
    "#   X_train, y_train = add_fake_data(X_train, y_train, min(counts))\n",
    "  X_train = to_greyscale(X_train)\n",
    "  X_train = scale(X_train)\n",
    "  sign_dict[str(max(y_train))] = \"none\"\n",
    "  X_train, y_train = shuffle(X_train, y_train)\n",
    "  X_train, X_valid, y_train, y_valid = train_test_split(X_train, y_train, test_size=0.2, random_state=42)\n",
    "  \n",
    "  train_pipeline_complete = True\n",
    "  print(\"Finished pipeline for training data.\")\n",
    "else:\n",
    "  print(\"Already preprocessed train data. To re-run, reset previous cell.\")\n",
    "  \n",
    "# Don't run this twice\n",
    "if test_pipeline_complete == False:\n",
    "  print(\"Starting pipeline for test data.\")\n",
    "  X_test, y_test = equalize(X_test, y_test)\n",
    "#   indicies, counts = np.unique(y_data, return_counts=True)\n",
    "#   X_test, y_test = add_fake_data(X_test, y_test, min(counts)) ## TODO: should I leave this in?\n",
    "  X_test = to_greyscale(X_test)\n",
    "  X_test = scale(X_test)\n",
    "  test_pipeline_complete = True \n",
    "  print(\"Finished pipeline for test data.\")\n",
    "else:\n",
    "  print(\"Already preprocessed test data. To re-run, reset previous cell.\")"
   ]
  },
  {
   "cell_type": "markdown",
   "metadata": {},
   "source": [
    "### Question 1 \n",
    "\n",
    "_Describe how you preprocessed the data. Why did you choose that technique?_"
   ]
  },
  {
   "cell_type": "markdown",
   "metadata": {},
   "source": [
    "**Answer:**"
   ]
  },
  {
   "cell_type": "code",
   "execution_count": null,
   "metadata": {
    "collapsed": true
   },
   "outputs": [],
   "source": [
    "### Generate data additional data (OPTIONAL!)\n",
    "### and split the data into training/validation/testing sets here.\n",
    "### Feel free to use as many code cells as needed."
   ]
  },
  {
   "cell_type": "markdown",
   "metadata": {},
   "source": [
    "### Question 2\n",
    "\n",
    "_Describe how you set up the training, validation and testing data for your model. **Optional**: If you generated additional data, how did you generate the data? Why did you generate the data? What are the differences in the new dataset (with generated data) from the original dataset?_"
   ]
  },
  {
   "cell_type": "markdown",
   "metadata": {},
   "source": [
    "**Answer:**"
   ]
  },
  {
   "cell_type": "code",
   "execution_count": null,
   "metadata": {
    "collapsed": true
   },
   "outputs": [],
   "source": [
    "### Define your architecture here.\n",
    "### Feel free to use as many code cells as needed."
   ]
  },
  {
   "cell_type": "markdown",
   "metadata": {},
   "source": [
    "### Question 3\n",
    "\n",
    "_What does your final architecture look like? (Type of model, layers, sizes, connectivity, etc.)  For reference on how to build a deep neural network using TensorFlow, see [Deep Neural Network in TensorFlow\n",
    "](https://classroom.udacity.com/nanodegrees/nd013/parts/fbf77062-5703-404e-b60c-95b78b2f3f9e/modules/6df7ae49-c61c-4bb2-a23e-6527e69209ec/lessons/b516a270-8600-4f93-a0a3-20dfeabe5da6/concepts/83a3a2a2-a9bd-4b7b-95b0-eb924ab14432) from the classroom._\n"
   ]
  },
  {
   "cell_type": "markdown",
   "metadata": {},
   "source": [
    "**Answer:**"
   ]
  },
  {
   "cell_type": "code",
   "execution_count": null,
   "metadata": {
    "collapsed": true
   },
   "outputs": [],
   "source": [
    "### Train your model here.\n",
    "### Feel free to use as many code cells as needed."
   ]
  },
  {
   "cell_type": "code",
   "execution_count": 12,
   "metadata": {
    "collapsed": true
   },
   "outputs": [],
   "source": [
    "import tensorflow as tf\n",
    "\n",
    "EPOCHS = 1\n",
    "BATCH_SIZE = 2"
   ]
  },
  {
   "cell_type": "code",
   "execution_count": 13,
   "metadata": {
    "collapsed": false
   },
   "outputs": [],
   "source": [
    "from tensorflow.contrib.layers import flatten\n",
    "\n",
    "def conv2d(x, W, b, strides=1, padding='VALID'):\n",
    "    # Conv2D wrapper, with bias and relu activation\n",
    "    x = tf.nn.conv2d(x, W, strides=[1, strides, strides, 1], padding=padding)\n",
    "    x = tf.nn.bias_add(x, b)\n",
    "    return tf.nn.relu(x)\n",
    "  \n",
    "def maxpool2d(x, k=2, padding='VALID'):\n",
    "    # MaxPool2D wrapper\n",
    "    return tf.nn.max_pool(x, ksize=[1, k, k, 1], strides=[1, k, k, 1],\n",
    "                          padding=padding)\n",
    "  \n",
    "# Hyperparameters\n",
    "w_mu = 0.0\n",
    "w_sigma = 0.1\n",
    "\n",
    "n_classes = 43\n",
    "\n",
    "# (height, width, input_depth, output_depth)\n",
    "weights = {\n",
    "    # Layer 1: Convolutional. Input = 32x32x1. Output = 28x28x6.\n",
    "    # 5x5 conv, 1 input, 6 outputs. \n",
    "    'cnn1': tf.Variable(tf.truncated_normal(shape=(5, 5, 1, 6), mean=w_mu, stddev=w_sigma)),\n",
    "    # Layer 2: Convolutional. Input = 14x14x6. Output = 10x10x16.\n",
    "    # 5x5 conv, 6 inputs, 16 outputs\n",
    "    'cnn2': tf.Variable(tf.truncated_normal(shape=(5, 5, 6, 16), mean=w_mu, stddev=w_sigma)),\n",
    "    # Fully Connected 1: Input = 400. Output = 120\n",
    "    'fc1': tf.Variable(tf.truncated_normal(shape=(400, 120), mean=w_mu, stddev=w_sigma)),\n",
    "    # Fully Connected 2: Input = 120. Output = 84.\n",
    "    'fc2': tf.Variable(tf.truncated_normal(shape=(120, 84), mean=w_mu, stddev=w_sigma)),\n",
    "    # Fully Connected 3: Input = 84. Output = 44.\n",
    "    'out': tf.Variable(tf.truncated_normal(shape=(84, n_classes), mean=w_mu, stddev=w_sigma))\n",
    "}\n",
    "\n",
    "# filter bias is (output_depth,)\n",
    "biases = {\n",
    "    # Layer 1: Convolutional. Input = 32x32x1. Output = 28x28x6.\n",
    "    'cnn1': tf.Variable(tf.zeros(6)),\n",
    "    # Layer 2: Convolutional. Output = 10x10x16.\n",
    "    'cnn2': tf.Variable(tf.zeros(16)),\n",
    "    # Fully Connected 1: Input = 400. Output = 120\n",
    "    'fc1': tf.Variable(tf.zeros(120)),\n",
    "    # Fully Connected 2: Input = 120. Output = 84.\n",
    "    'fc2': tf.Variable(tf.zeros(84)),\n",
    "    # Fully Connected 3: Input = 84. Output = 44.\n",
    "    'out': tf.Variable(tf.zeros(n_classes))\n",
    "}\n",
    "\n",
    "def LeNet(x):   \n",
    "    # TODO: Layer 1: Convolutional. Input = 32x32x1. Output = 28x28x6.\n",
    "    # TODO: Activation 1.\n",
    "    cnn1 = conv2d(x, weights['cnn1'], biases['cnn1'])\n",
    "    \n",
    "    # TODO: Pooling. Input = 28x28x6. Output = 14x14x6.\n",
    "    pool1 = maxpool2d(cnn1)\n",
    "\n",
    "    # TODO: Layer 2: Convolutional. Output = 10x10x16.\n",
    "    # TODO: Activation 2.\n",
    "    cnn2 = conv2d(pool1, weights['cnn2'], biases['cnn2'])\n",
    "\n",
    "    # TODO: Pooling. Input = 10x10x16. Output = 5x5x16.\n",
    "    pool2 = maxpool2d(cnn2)\n",
    "\n",
    "    # TODO: Flatten. Input = 5x5x16. Output = 400.\n",
    "    fc0 = flatten(pool2)\n",
    "    \n",
    "    # TODO: Layer 3: Fully Connected. Input = 400. Output = 120.\n",
    "    fc1 = tf.add(tf.matmul(fc0, weights['fc1']), biases['fc1'])\n",
    "    # TODO: Activation.\n",
    "    fc1 = tf.nn.relu(fc1)\n",
    "\n",
    "    # TODO: Layer 4: Fully Connected. Input = 120. Output = 84.\n",
    "    fc2 = tf.add(tf.matmul(fc1, weights['fc2']), biases['fc2'])\n",
    "    # TODO: Activation.\n",
    "    fc2 = tf.nn.relu(fc2)\n",
    "\n",
    "    # TODO: Layer 5: Fully Connected. Input = 84. Output = 44.\n",
    "    logits = tf.add(tf.matmul(fc2, weights['out']), biases['out'])\n",
    "#     TODO: Activation.\n",
    "#     logits = tf.nn.relu(logits)\n",
    "    \n",
    "    return logits"
   ]
  },
  {
   "cell_type": "code",
   "execution_count": 14,
   "metadata": {
    "collapsed": true
   },
   "outputs": [],
   "source": [
    "x = tf.placeholder(tf.float32, shape=(None, 32, 32, 1))\n",
    "y = tf.placeholder(tf.int32, shape=(None))\n",
    "one_hot_y = tf.one_hot(y, n_classes)"
   ]
  },
  {
   "cell_type": "code",
   "execution_count": 15,
   "metadata": {
    "collapsed": false
   },
   "outputs": [],
   "source": [
    "rate = 0.001\n",
    "\n",
    "logits = LeNet(x)\n",
    "cross_entropy = tf.nn.softmax_cross_entropy_with_logits(logits, one_hot_y)\n",
    "loss_operation = tf.reduce_mean(cross_entropy)\n",
    "optimizer = tf.train.AdamOptimizer(learning_rate = rate)\n",
    "training_operation = optimizer.minimize(loss_operation)"
   ]
  },
  {
   "cell_type": "code",
   "execution_count": 19,
   "metadata": {
    "collapsed": true
   },
   "outputs": [],
   "source": [
    "correct_prediction = tf.equal(tf.argmax(logits, 1), tf.argmax(one_hot_y, 1))\n",
    "accuracy_operation = tf.reduce_mean(tf.cast(correct_prediction, tf.float32))\n",
    "saver = tf.train.Saver()\n",
    "\n",
    "from reusable.batches import Batch\n",
    "\n",
    "def evaluate(X_data, y_data):\n",
    "    batch = Batch(BATCH_SIZE, X_data, y_data)\n",
    "    num_examples = len(X_data)\n",
    "    total_accuracy = 0\n",
    "    sess = tf.get_default_session()\n",
    "    iterator = batch.iterator()\n",
    "    for batch_x, batch_y in iterator:\n",
    "#         batch_x, batch_y = X_data[offset:offset+BATCH_SIZE], y_data[offset:offset+BATCH_SIZE]\n",
    "        print(iterator.batch_index)\n",
    "        accuracy = sess.run(accuracy_operation, feed_dict={x: batch_x, y: batch_y})\n",
    "        total_accuracy += (accuracy * len(batch_x))\n",
    "    return total_accuracy / num_examples"
   ]
  },
  {
   "cell_type": "code",
   "execution_count": 20,
   "metadata": {
    "collapsed": false
   },
   "outputs": [
    {
     "name": "stdout",
     "output_type": "stream",
     "text": [
      "Training...\n",
      "\n",
      "0\n",
      "2\n",
      "2\n",
      "2\n",
      "4\n",
      "4\n",
      "4\n",
      "6\n",
      "6\n",
      "6\n",
      "8\n",
      "8\n",
      "8\n",
      "10\n",
      "10\n",
      "10\n",
      "0\n",
      "2\n",
      "2\n",
      "2\n",
      "4\n",
      "4\n",
      "4\n",
      "6\n",
      "6\n",
      "6\n",
      "8\n",
      "8\n",
      "8\n",
      "10\n",
      "10\n",
      "10\n",
      "EPOCH 1 ...\n",
      "Validation Accuracy = 0.100\n",
      "\n",
      "Model saved\n"
     ]
    }
   ],
   "source": [
    "with tf.Session() as sess:\n",
    "    sess.run(tf.initialize_all_variables())\n",
    "    X_train, y_train = shuffle(X_train, y_train)\n",
    "    X_train, y_train = X_train[0:10], y_train[0:10]\n",
    "#     num_examples = len(X_train)\n",
    "    \n",
    "    print(\"Training...\")\n",
    "    print()\n",
    "    for i in range(1):\n",
    "        batch = Batch(BATCH_SIZE, X_train, y_train)\n",
    "        iterator = batch.iterator()\n",
    "        for batch_x, batch_y in iterator:\n",
    "#             end = offset + BATCH_SIZE\n",
    "#             batch_x, batch_y = X_train[offset:end], y_train[offset:end]\n",
    "            print(iterator.batch_index)\n",
    "            sess.run(training_operation, feed_dict={x: batch_x, y: batch_y})\n",
    "        \n",
    "        X_valid, y_valid = X_valid[0:10], y_valid[0:10]\n",
    "        validation_accuracy = evaluate(X_valid, y_valid)\n",
    "        print(\"EPOCH {} ...\".format(i+1))\n",
    "        print(\"Validation Accuracy = {:.3f}\".format(validation_accuracy))\n",
    "        print()\n",
    "        \n",
    "    saver.save(sess, 'lenet_' + iteration)\n",
    "    print(\"Model saved\")"
   ]
  },
  {
   "cell_type": "code",
   "execution_count": null,
   "metadata": {
    "collapsed": false
   },
   "outputs": [],
   "source": [
    "with tf.Session() as sess:\n",
    "    saver.restore(sess, tf.train.latest_checkpoint('.'))\n",
    "\n",
    "    test_accuracy = evaluate(X_test, y_test)\n",
    "    print(\"Test Accuracy = {:.3f}\".format(test_accuracy))"
   ]
  },
  {
   "cell_type": "markdown",
   "metadata": {},
   "source": [
    "### Question 4\n",
    "\n",
    "_How did you train your model? (Type of optimizer, batch size, epochs, hyperparameters, etc.)_\n"
   ]
  },
  {
   "cell_type": "markdown",
   "metadata": {},
   "source": [
    "**Answer:**"
   ]
  },
  {
   "cell_type": "markdown",
   "metadata": {},
   "source": [
    "### Question 5\n",
    "\n",
    "\n",
    "_What approach did you take in coming up with a solution to this problem? It may have been a process of trial and error, in which case, outline the steps you took to get to the final solution and why you chose those steps. Perhaps your solution involved an already well known implementation or architecture. In this case, discuss why you think this is suitable for the current problem._"
   ]
  },
  {
   "cell_type": "markdown",
   "metadata": {},
   "source": [
    "**Answer:**"
   ]
  },
  {
   "cell_type": "markdown",
   "metadata": {},
   "source": [
    "---\n",
    "\n",
    "## Step 3: Test a Model on New Images\n",
    "\n",
    "Take several pictures of traffic signs that you find on the web or around you (at least five), and run them through your classifier on your computer to produce example results. The classifier might not recognize some local signs but it could prove interesting nonetheless.\n",
    "\n",
    "You may find `signnames.csv` useful as it contains mappings from the class id (integer) to the actual sign name."
   ]
  },
  {
   "cell_type": "markdown",
   "metadata": {},
   "source": [
    "### Implementation\n",
    "\n",
    "Use the code cell (or multiple code cells, if necessary) to implement the first step of your project. Once you have completed your implementation and are satisfied with the results, be sure to thoroughly answer the questions that follow."
   ]
  },
  {
   "cell_type": "code",
   "execution_count": null,
   "metadata": {
    "collapsed": true
   },
   "outputs": [],
   "source": [
    "### Load the images and plot them here.\n",
    "### Feel free to use as many code cells as needed."
   ]
  },
  {
   "cell_type": "markdown",
   "metadata": {},
   "source": [
    "### Question 6\n",
    "\n",
    "_Choose five candidate images of traffic signs and provide them in the report. Are there any particular qualities of the image(s) that might make classification difficult? It could be helpful to plot the images in the notebook._\n",
    "\n"
   ]
  },
  {
   "cell_type": "markdown",
   "metadata": {},
   "source": [
    "**Answer:**"
   ]
  },
  {
   "cell_type": "code",
   "execution_count": null,
   "metadata": {
    "collapsed": true
   },
   "outputs": [],
   "source": [
    "### Run the predictions here.\n",
    "### Feel free to use as many code cells as needed."
   ]
  },
  {
   "cell_type": "markdown",
   "metadata": {},
   "source": [
    "### Question 7\n",
    "\n",
    "_Is your model able to perform equally well on captured pictures when compared to testing on the dataset? The simplest way to do this check the accuracy of the predictions. For example, if the model predicted 1 out of 5 signs correctly, it's 20% accurate._\n",
    "\n",
    "_**NOTE:** You could check the accuracy manually by using `signnames.csv` (same directory). This file has a mapping from the class id (0-42) to the corresponding sign name. So, you could take the class id the model outputs, lookup the name in `signnames.csv` and see if it matches the sign from the image._\n"
   ]
  },
  {
   "cell_type": "markdown",
   "metadata": {},
   "source": [
    "**Answer:**"
   ]
  },
  {
   "cell_type": "code",
   "execution_count": null,
   "metadata": {
    "collapsed": true
   },
   "outputs": [],
   "source": [
    "### Visualize the softmax probabilities here.\n",
    "### Feel free to use as many code cells as needed."
   ]
  },
  {
   "cell_type": "markdown",
   "metadata": {},
   "source": [
    "### Question 8\n",
    "\n",
    "*Use the model's softmax probabilities to visualize the **certainty** of its predictions, [`tf.nn.top_k`](https://www.tensorflow.org/versions/r0.12/api_docs/python/nn.html#top_k) could prove helpful here. Which predictions is the model certain of? Uncertain? If the model was incorrect in its initial prediction, does the correct prediction appear in the top k? (k should be 5 at most)*\n",
    "\n",
    "`tf.nn.top_k` will return the values and indices (class ids) of the top k predictions. So if k=3, for each sign, it'll return the 3 largest probabilities (out of a possible 43) and the correspoding class ids.\n",
    "\n",
    "Take this numpy array as an example:\n",
    "\n",
    "```\n",
    "# (5, 6) array\n",
    "a = np.array([[ 0.24879643,  0.07032244,  0.12641572,  0.34763842,  0.07893497,\n",
    "         0.12789202],\n",
    "       [ 0.28086119,  0.27569815,  0.08594638,  0.0178669 ,  0.18063401,\n",
    "         0.15899337],\n",
    "       [ 0.26076848,  0.23664738,  0.08020603,  0.07001922,  0.1134371 ,\n",
    "         0.23892179],\n",
    "       [ 0.11943333,  0.29198961,  0.02605103,  0.26234032,  0.1351348 ,\n",
    "         0.16505091],\n",
    "       [ 0.09561176,  0.34396535,  0.0643941 ,  0.16240774,  0.24206137,\n",
    "         0.09155967]])\n",
    "```\n",
    "\n",
    "Running it through `sess.run(tf.nn.top_k(tf.constant(a), k=3))` produces:\n",
    "\n",
    "```\n",
    "TopKV2(values=array([[ 0.34763842,  0.24879643,  0.12789202],\n",
    "       [ 0.28086119,  0.27569815,  0.18063401],\n",
    "       [ 0.26076848,  0.23892179,  0.23664738],\n",
    "       [ 0.29198961,  0.26234032,  0.16505091],\n",
    "       [ 0.34396535,  0.24206137,  0.16240774]]), indices=array([[3, 0, 5],\n",
    "       [0, 1, 4],\n",
    "       [0, 5, 1],\n",
    "       [1, 3, 5],\n",
    "       [1, 4, 3]], dtype=int32))\n",
    "```\n",
    "\n",
    "Looking just at the first row we get `[ 0.34763842,  0.24879643,  0.12789202]`, you can confirm these are the 3 largest probabilities in `a`. You'll also notice `[3, 0, 5]` are the corresponding indices."
   ]
  },
  {
   "cell_type": "markdown",
   "metadata": {},
   "source": [
    "**Answer:**"
   ]
  },
  {
   "cell_type": "markdown",
   "metadata": {},
   "source": [
    "> **Note**: Once you have completed all of the code implementations and successfully answered each question above, you may finalize your work by exporting the iPython Notebook as an HTML document. You can do this by using the menu above and navigating to  \\n\",\n",
    "    \"**File -> Download as -> HTML (.html)**. Include the finished document along with this notebook as your submission."
   ]
  },
  {
   "cell_type": "code",
   "execution_count": null,
   "metadata": {
    "collapsed": true
   },
   "outputs": [],
   "source": []
  }
 ],
 "metadata": {
  "anaconda-cloud": {},
  "kernelspec": {
   "display_name": "Python [default]",
   "language": "python",
   "name": "python3"
  },
  "language_info": {
   "codemirror_mode": {
    "name": "ipython",
    "version": 3
   },
   "file_extension": ".py",
   "mimetype": "text/x-python",
   "name": "python",
   "nbconvert_exporter": "python",
   "pygments_lexer": "ipython3",
   "version": "3.5.2"
  }
 },
 "nbformat": 4,
 "nbformat_minor": 1
}
