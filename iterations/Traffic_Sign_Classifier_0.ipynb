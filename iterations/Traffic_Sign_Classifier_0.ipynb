{
 "cells": [
  {
   "cell_type": "markdown",
   "metadata": {},
   "source": [
    "# Self-Driving Car Engineer Nanodegree\n",
    "\n",
    "## Deep Learning\n",
    "\n",
    "## Project: Build a Traffic Sign Recognition Classifier\n",
    "\n",
    "In this notebook, a template is provided for you to implement your functionality in stages which is required to successfully complete this project. If additional code is required that cannot be included in the notebook, be sure that the Python code is successfully imported and included in your submission, if necessary. Sections that begin with **'Implementation'** in the header indicate where you should begin your implementation for your project. Note that some sections of implementation are optional, and will be marked with **'Optional'** in the header.\n",
    "\n",
    "In addition to implementing code, there will be questions that you must answer which relate to the project and your implementation. Each section where you will answer a question is preceded by a **'Question'** header. Carefully read each question and provide thorough answers in the following text boxes that begin with **'Answer:'**. Your project submission will be evaluated based on your answers to each of the questions and the implementation you provide.\n",
    "\n",
    ">**Note:** Code and Markdown cells can be executed using the **Shift + Enter** keyboard shortcut. In addition, Markdown cells can be edited by typically double-clicking the cell to enter edit mode."
   ]
  },
  {
   "cell_type": "markdown",
   "metadata": {},
   "source": [
    "---\n",
    "## Step 0: Load The Data"
   ]
  },
  {
   "cell_type": "code",
   "execution_count": 60,
   "metadata": {
    "collapsed": false
   },
   "outputs": [
    {
     "name": "stdout",
     "output_type": "stream",
     "text": [
      "Loading project data.\n",
      "Data already unzipped.\n",
      "Returning ProjectData(train, test).\n",
      "Done!\n"
     ]
    }
   ],
   "source": [
    "# Load pickled data\n",
    "import pickle\n",
    "from reusable import load\n",
    "\n",
    "data = load.load_data()\n",
    "\n",
    "print(\"Done!\")\n",
    "\n",
    "X_train, y_train = (data.train.features, data.train.labels)\n",
    "X_test, y_test = (data.test.features, data.test.labels)"
   ]
  },
  {
   "cell_type": "code",
   "execution_count": 61,
   "metadata": {
    "collapsed": false
   },
   "outputs": [],
   "source": [
    "iteration = \"0\""
   ]
  },
  {
   "cell_type": "markdown",
   "metadata": {},
   "source": [
    "---\n",
    "\n",
    "## Step 1: Dataset Summary & Exploration\n",
    "\n",
    "The pickled data is a dictionary with 4 key/value pairs:\n",
    "\n",
    "- `'features'` is a 4D array containing raw pixel data of the traffic sign images, (num examples, width, height, channels).\n",
    "- `'labels'` is a 2D array containing the label/class id of the traffic sign. The file `signnames.csv` contains id -> name mappings for each id.\n",
    "- `'sizes'` is a list containing tuples, (width, height) representing the the original width and height the image.\n",
    "- `'coords'` is a list containing tuples, (x1, y1, x2, y2) representing coordinates of a bounding box around the sign in the image. **THESE COORDINATES ASSUME THE ORIGINAL IMAGE. THE PICKLED DATA CONTAINS RESIZED VERSIONS (32 by 32) OF THESE IMAGES**\n",
    "\n",
    "Complete the basic data summary below."
   ]
  },
  {
   "cell_type": "code",
   "execution_count": 62,
   "metadata": {
    "collapsed": false
   },
   "outputs": [
    {
     "name": "stdout",
     "output_type": "stream",
     "text": [
      "Number of training examples = 39209\n",
      "Number of testing examples = 12630\n",
      "Image data shape = (32, 32, 3)\n",
      "Number of classes = 43\n"
     ]
    }
   ],
   "source": [
    "### Replace each question mark with the appropriate value.\n",
    "\n",
    "# TODO: Number of training examples\n",
    "n_train = len(X_train)\n",
    "\n",
    "# TODO: Number of testing examples.\n",
    "n_test = len(X_test)\n",
    "\n",
    "# TODO: What's the shape of an traffic sign image?\n",
    "image_shape = (len(X_train[0]), len(X_train[0][0]), len(X_train[0][0][0]))\n",
    "\n",
    "# TODO: How many unique classes/labels there are in the dataset.\n",
    "n_classes = len(set(y_train))\n",
    "\n",
    "print(\"Number of training examples =\", n_train)\n",
    "print(\"Number of testing examples =\", n_test)\n",
    "print(\"Image data shape =\", image_shape)\n",
    "print(\"Number of classes =\", n_classes)"
   ]
  },
  {
   "cell_type": "markdown",
   "metadata": {},
   "source": [
    "Visualize the German Traffic Signs Dataset using the pickled file(s). This is open ended, suggestions include: plotting traffic sign images, plotting the count of each sign, etc.\n",
    "\n",
    "The [Matplotlib](http://matplotlib.org/) [examples](http://matplotlib.org/examples/index.html) and [gallery](http://matplotlib.org/gallery.html) pages are a great resource for doing visualizations in Python.\n",
    "\n",
    "**NOTE:** It's recommended you start with something simple first. If you wish to do more, come back to it after you've completed the rest of the sections."
   ]
  },
  {
   "cell_type": "code",
   "execution_count": 63,
   "metadata": {
    "collapsed": false
   },
   "outputs": [
    {
     "name": "stdout",
     "output_type": "stream",
     "text": [
      "End of no passing by vehicles over 3.5 metric tons\n"
     ]
    },
    {
     "data": {
      "image/png": "[encoded data removed]",
      "text/plain": [
       "<matplotlib.figure.Figure at 0x12237b208>"
      ]
     },
     "metadata": {},
     "output_type": "display_data"
    }
   ],
   "source": [
    "### Data exploration visualization goes here.\n",
    "### Feel free to use as many code cells as needed.\n",
    "import matplotlib.pyplot as plt\n",
    "import csv\n",
    "import numpy as np\n",
    "import random\n",
    "# Visualizations will be shown in the notebook.\n",
    "%matplotlib inline\n",
    "\n",
    "def load_csv_to_dict(csv_file):\n",
    "  with open(csv_file, mode='r') as infile:\n",
    "    reader = csv.reader(infile)\n",
    "    return {rows[0]:rows[1] for rows in reader}\n",
    "  \n",
    "sign_dict = load_csv_to_dict(\"../signnames.csv\")\n",
    "\n",
    "index = random.randint(0, len(X_train))\n",
    "image = X_train[index].squeeze()\n",
    "\n",
    "plt.figure(figsize=(1,1))\n",
    "plt.imshow(image)\n",
    "print(sign_dict[str(y_train[index])])"
   ]
  },
  {
   "cell_type": "code",
   "execution_count": 64,
   "metadata": {
    "collapsed": false
   },
   "outputs": [
    {
     "name": "stdout",
     "output_type": "stream",
     "text": [
      "[('Speed limit (20km/h)', 210), ('Dangerous curve to the left', 210), ('Go straight or left', 210), ('Pedestrians', 240), ('End of all speed and passing limits', 240)]\n",
      "[('Speed limit (50km/h)', 2250), ('Speed limit (30km/h)', 2220), ('Yield', 2160), ('Priority road', 2100), ('Keep right', 2070)]\n"
     ]
    },
    {
     "data": {
      "image/png": "[encoded data removed]",
      "text/plain": [
       "<matplotlib.figure.Figure at 0x10e650e48>"
      ]
     },
     "metadata": {},
     "output_type": "display_data"
    },
    {
     "name": "stdout",
     "output_type": "stream",
     "text": [
      "[('Speed limit (20km/h)', 60), ('Dangerous curve to the left', 60), ('Pedestrians', 60), ('End of all speed and passing limits', 60), ('Go straight or left', 60)]\n",
      "[('Speed limit (50km/h)', 750), ('Speed limit (30km/h)', 720), ('Yield', 720), ('Priority road', 690), ('Keep right', 690)]\n"
     ]
    },
    {
     "data": {
      "image/png": "[encoded data removed]",
      "text/plain": [
       "<matplotlib.figure.Figure at 0x1223ad978>"
      ]
     },
     "metadata": {},
     "output_type": "display_data"
    }
   ],
   "source": [
    "### Count number of each sign in test and train datasets\n",
    "import matplotlib.mlab as mlab\n",
    "import matplotlib.pyplot as plt\n",
    "%matplotlib inline\n",
    "\n",
    "def hist(data, name):\n",
    "  indicies, counts = np.unique(data, return_counts=True)\n",
    "  # the histogram of the data\n",
    "  n, bins, patches = plt.hist(data, len(indicies), facecolor='green')\n",
    "\n",
    "  plt.xlabel('Sign index')\n",
    "  plt.ylabel('Count')\n",
    "  plt.title('Count  of dataset ' + name)\n",
    "  plt.axis([0, len(indicies), 0, max(counts)])\n",
    "  plt.grid(True)\n",
    "\n",
    "  plt.show()\n",
    "  \n",
    "def min_counts(data, num_to_print=5):\n",
    "  indicies, counts = np.unique(data, return_counts=True)\n",
    "  arr = sorted(list(zip(indicies, counts)), key=lambda x: x[1])\n",
    "  print([(sign_dict[str(sign[0])], sign[1]) for sign in arr[0:num_to_print]])\n",
    "\n",
    "def max_counts(data, num_to_print=5):\n",
    "  indicies, counts = np.unique(data, return_counts=True)\n",
    "  arr = sorted(list(zip(indicies, counts)), key=lambda x: x[1], reverse=True)\n",
    "  print([(sign_dict[str(sign[0])], sign[1]) for sign in arr[0:num_to_print]])\n",
    "  \n",
    "  \n",
    "min_counts(y_train)\n",
    "max_counts(y_train)\n",
    "hist(y_test, 'test')\n",
    "\n",
    "min_counts(y_test)\n",
    "max_counts(y_test)\n",
    "hist(y_train, 'train')"
   ]
  },
  {
   "cell_type": "markdown",
   "metadata": {},
   "source": [
    "----\n",
    "\n",
    "## Step 2: Design and Test a Model Architecture\n",
    "\n",
    "Design and implement a deep learning model that learns to recognize traffic signs. Train and test your model on the [German Traffic Sign Dataset](http://benchmark.ini.rub.de/?section=gtsrb&subsection=dataset).\n",
    "\n",
    "There are various aspects to consider when thinking about this problem:\n",
    "\n",
    "- Neural network architecture\n",
    "- Play around preprocessing techniques (normalization, rgb to grayscale, etc)\n",
    "- Number of examples per label (some have more than others).\n",
    "- Generate fake data.\n",
    "\n",
    "Here is an example of a [published baseline model on this problem](http://yann.lecun.com/exdb/publis/pdf/sermanet-ijcnn-11.pdf). It's not required to be familiar with the approach used in the paper but, it's good practice to try to read papers like these.\n",
    "\n",
    "**NOTE:** The LeNet-5 implementation shown in the [classroom](https://classroom.udacity.com/nanodegrees/nd013/parts/fbf77062-5703-404e-b60c-95b78b2f3f9e/modules/6df7ae49-c61c-4bb2-a23e-6527e69209ec/lessons/601ae704-1035-4287-8b11-e2c2716217ad/concepts/d4aca031-508f-4e0b-b493-e7b706120f81) at the end of the CNN lesson is a solid starting point. You'll have to change the number of classes and possibly the preprocessing, but aside from that it's plug and play!"
   ]
  },
  {
   "cell_type": "markdown",
   "metadata": {},
   "source": [
    "### Implementation\n",
    "\n",
    "Use the code cell (or multiple code cells, if necessary) to implement the first step of your project. Once you have completed your implementation and are satisfied with the results, be sure to thoroughly answer the questions that follow."
   ]
  },
  {
   "cell_type": "markdown",
   "metadata": {
    "collapsed": true
   },
   "source": [
    "#### Preprocess Steps\n",
    "\n",
    "1. Equalize number of data points (Optional)\n",
    "2. Add some randomly generated images and an extra label (\"none\"). This will allow the model to tell us when it can't classify an image. \n",
    "3. Convert to greyscale\n",
    "2. Scale between -1 and 1\n",
    "5. Split out validation data"
   ]
  },
  {
   "cell_type": "markdown",
   "metadata": {},
   "source": [
    "The first thing I notice is that in the training set there are over 2000 \"speed limit 50 km/h\" signs and only 210 \"speed limit 20 km/h\" signs. That is interesting because those signs specifically are almost the same. The only differnece being a '2' and a '5'. My fear is that having 10x more data of one sign will lead to the network biasing towards the more common sign. I am going to write a function to equalize the number of signs. Its unclear if this si a good idea because it will greatly reduce the overall number of datapoints avaialable. "
   ]
  },
  {
   "cell_type": "code",
   "execution_count": 65,
   "metadata": {
    "collapsed": false
   },
   "outputs": [],
   "source": [
    "### equalize total number of signs. Signs should be shuffled before running this function. \n",
    "### This function takes the number of train samples down from 39209 to 9030 and the test set from 12630 to 2580.\n",
    "def equalize(X_data, y_data):\n",
    "  indicies, counts = np.unique(y_data, return_counts=True)\n",
    "  min_count = min(counts)\n",
    "  \n",
    "  index_count = np.zeros(max(indicies)+1)\n",
    "  X_result = []\n",
    "  y_result = []\n",
    "  for i in range(len(X_data)):\n",
    "    sign_index = y_data[i]\n",
    "    if index_count[sign_index] < min_count:\n",
    "      X_result.append(X_data[i])\n",
    "      y_result.append(y_data[i])\n",
    "      index_count[sign_index] += 1\n",
    "\n",
    "  return (X_result, y_result)\n",
    "\n",
    "# test_x, test_y = equalize(X_test, y_test)"
   ]
  },
  {
   "cell_type": "markdown",
   "metadata": {},
   "source": [
    "I think it is helpful to normalize the image data between -1 and 1, so I will add a function for that. "
   ]
  },
  {
   "cell_type": "code",
   "execution_count": 66,
   "metadata": {
    "collapsed": false
   },
   "outputs": [],
   "source": [
    "### Normalize data\n",
    "def scale(X_data):\n",
    "  return np.divide(np.subtract(np.array(X_data, dtype='float32'), 128), 128)"
   ]
  },
  {
   "cell_type": "markdown",
   "metadata": {},
   "source": [
    "There is no reason an image has to have a sign in it. It that is the case, the model should return \"none\"."
   ]
  },
  {
   "cell_type": "code",
   "execution_count": 67,
   "metadata": {
    "collapsed": true
   },
   "outputs": [],
   "source": [
    "def add_fake_data(X_data, y_data, num_points):\n",
    "  shape = (len(X_data[0]), len(X_data[0][0]), len(X_data[0][0][0]))\n",
    "  new_index = max(y_data) + 1\n",
    "  max_val = np.max(X_data)\n",
    "  min_val = np.min(X_data)\n",
    "  \n",
    "  for i in range(num_points):\n",
    "    X_data.append(fake_data_point(shape, min_val, max_val))\n",
    "    y_data.append(new_index)\n",
    "  return (X_data, y_data)\n",
    "    \n",
    "def fake_data_point(shape, min_val, max_val):\n",
    "  data = np.zeros(shape, dtype='int8')\n",
    "  for i in range(shape[0]):\n",
    "    for j in range(shape[1]):\n",
    "      for k in range(shape[2]):\n",
    "        data[i][j][k] = random.randint(min_val, max_val)\n",
    "      \n",
    "  return data"
   ]
  },
  {
   "cell_type": "markdown",
   "metadata": {},
   "source": [
    "In theory, the neural network should be robust enough to not require converting to greyscale, but because we don't actually have that many data points, I think converting to greyscale first will help. TODO, come back to how it will help. "
   ]
  },
  {
   "cell_type": "code",
   "execution_count": 68,
   "metadata": {
    "collapsed": false
   },
   "outputs": [],
   "source": [
    "def to_greyscale(X_data):\n",
    "  return [rgb2gray(image) for image in X_data]\n",
    "\n",
    "def rgb2gray(rgb):\n",
    "    gray = np.dot(rgb[...,:3], [0.299, 0.587, 0.114])\n",
    "    return [[[val] for val in row] for row in gray]"
   ]
  },
  {
   "cell_type": "code",
   "execution_count": 69,
   "metadata": {
    "collapsed": false
   },
   "outputs": [
    {
     "name": "stdout",
     "output_type": "stream",
     "text": [
      "Loading project data.\n",
      "Data already unzipped.\n",
      "Returning ProjectData(train, test).\n",
      "Done!\n"
     ]
    }
   ],
   "source": [
    "### Reset data before resetting pipeline\n",
    "train_pipeline_complete = False\n",
    "test_pipeline_complete = False\n",
    "\n",
    "data = load.load_data()\n",
    "\n",
    "print(\"Done!\")\n",
    "\n",
    "X_train, y_train = (data.train.features, data.train.labels)\n",
    "X_test, y_test = (data.test.features, data.test.labels)\n"
   ]
  },
  {
   "cell_type": "code",
   "execution_count": 70,
   "metadata": {
    "collapsed": false
   },
   "outputs": [
    {
     "name": "stdout",
     "output_type": "stream",
     "text": [
      "Starting pipeline for training data.\n",
      "Finished pipeline for training data.\n",
      "Starting pipeline for test data.\n",
      "Finished pipeline for test data.\n"
     ]
    }
   ],
   "source": [
    "### Pipeline\n",
    "import sklearn\n",
    "from sklearn.utils import shuffle\n",
    "from sklearn.model_selection import train_test_split\n",
    "\n",
    "# Don't run this twice\n",
    "if train_pipeline_complete == False:\n",
    "  print(\"Starting pipeline for training data.\")\n",
    "  X_train, y_train = equalize(X_train, y_train)\n",
    "  indicies, counts = np.unique(y_train, return_counts=True)\n",
    "  X_train, y_train = add_fake_data(X_train, y_train, min(counts))\n",
    "  X_train = to_greyscale(X_train)\n",
    "  X_train = scale(X_train)\n",
    "  sign_dict[str(max(y_train))] = \"none\"\n",
    "  X_train, y_train = shuffle(X_train, y_train)\n",
    "  X_train, X_valid, y_train, y_valid = train_test_split(X_train, y_train, test_size=0.2, random_state=42)\n",
    "  \n",
    "  train_pipeline_complete = True\n",
    "  print(\"Finished pipeline for training data.\")\n",
    "else:\n",
    "  print(\"Already preprocessed train data. To re-run, reset previous cell.\")\n",
    "  \n",
    "# Don't run this twice\n",
    "if test_pipeline_complete == False:\n",
    "  print(\"Starting pipeline for test data.\")\n",
    "  X_test, y_test = equalize(X_test, y_test)\n",
    "#   indicies, counts = np.unique(y_data, return_counts=True)\n",
    "#   X_test, y_test = add_fake_data(X_test, y_test, min(counts)) ## TODO: should I leave this in?\n",
    "  X_test = to_greyscale(X_test)\n",
    "  X_test = scale(X_test)\n",
    "  test_pipeline_complete = True \n",
    "  print(\"Finished pipeline for test data.\")\n",
    "else:\n",
    "  print(\"Already preprocessed test data. To re-run, reset previous cell.\")"
   ]
  },
  {
   "cell_type": "markdown",
   "metadata": {},
   "source": [
    "### Question 1 \n",
    "\n",
    "_Describe how you preprocessed the data. Why did you choose that technique?_"
   ]
  },
  {
   "cell_type": "markdown",
   "metadata": {},
   "source": [
    "**Answer:**"
   ]
  },
  {
   "cell_type": "code",
   "execution_count": null,
   "metadata": {
    "collapsed": true
   },
   "outputs": [],
   "source": [
    "### Generate data additional data (OPTIONAL!)\n",
    "### and split the data into training/validation/testing sets here.\n",
    "### Feel free to use as many code cells as needed."
   ]
  },
  {
   "cell_type": "markdown",
   "metadata": {},
   "source": [
    "### Question 2\n",
    "\n",
    "_Describe how you set up the training, validation and testing data for your model. **Optional**: If you generated additional data, how did you generate the data? Why did you generate the data? What are the differences in the new dataset (with generated data) from the original dataset?_"
   ]
  },
  {
   "cell_type": "markdown",
   "metadata": {},
   "source": [
    "**Answer:**"
   ]
  },
  {
   "cell_type": "code",
   "execution_count": null,
   "metadata": {
    "collapsed": true
   },
   "outputs": [],
   "source": [
    "### Define your architecture here.\n",
    "### Feel free to use as many code cells as needed."
   ]
  },
  {
   "cell_type": "markdown",
   "metadata": {},
   "source": [
    "### Question 3\n",
    "\n",
    "_What does your final architecture look like? (Type of model, layers, sizes, connectivity, etc.)  For reference on how to build a deep neural network using TensorFlow, see [Deep Neural Network in TensorFlow\n",
    "](https://classroom.udacity.com/nanodegrees/nd013/parts/fbf77062-5703-404e-b60c-95b78b2f3f9e/modules/6df7ae49-c61c-4bb2-a23e-6527e69209ec/lessons/b516a270-8600-4f93-a0a3-20dfeabe5da6/concepts/83a3a2a2-a9bd-4b7b-95b0-eb924ab14432) from the classroom._\n"
   ]
  },
  {
   "cell_type": "markdown",
   "metadata": {},
   "source": [
    "**Answer:**"
   ]
  },
  {
   "cell_type": "code",
   "execution_count": null,
   "metadata": {
    "collapsed": true
   },
   "outputs": [],
   "source": [
    "### Train your model here.\n",
    "### Feel free to use as many code cells as needed."
   ]
  },
  {
   "cell_type": "code",
   "execution_count": 14,
   "metadata": {
    "collapsed": true
   },
   "outputs": [],
   "source": [
    "import tensorflow as tf\n",
    "\n",
    "EPOCHS = 10\n",
    "BATCH_SIZE = 64"
   ]
  },
  {
   "cell_type": "code",
   "execution_count": 74,
   "metadata": {
    "collapsed": false
   },
   "outputs": [],
   "source": [
    "from tensorflow.contrib.layers import flatten\n",
    "\n",
    "def conv2d(x, W, b, strides=1, padding='VALID'):\n",
    "    # Conv2D wrapper, with bias and relu activation\n",
    "    x = tf.nn.conv2d(x, W, strides=[1, strides, strides, 1], padding=padding)\n",
    "    x = tf.nn.bias_add(x, b)\n",
    "    return tf.nn.relu(x)\n",
    "  \n",
    "def maxpool2d(x, k=2, padding='VALID'):\n",
    "    # MaxPool2D wrapper\n",
    "    return tf.nn.max_pool(x, ksize=[1, k, k, 1], strides=[1, k, k, 1],\n",
    "                          padding=padding)\n",
    "  \n",
    "# Hyperparameters\n",
    "w_mu = 0.0\n",
    "w_sigma = 0.1\n",
    "\n",
    "n_classes = len(np.unique(y_train + y_valid + y_test))\n",
    "\n",
    "# (height, width, input_depth, output_depth)\n",
    "weights = {\n",
    "    # Layer 1: Convolutional. Input = 32x32x1. Output = 28x28x6.\n",
    "    # 5x5 conv, 1 input, 6 outputs. \n",
    "    'cnn1': tf.Variable(tf.truncated_normal(shape=(5, 5, 1, 6), mean=w_mu, stddev=w_sigma)),\n",
    "    # Layer 2: Convolutional. Input = 14x14x6. Output = 10x10x16.\n",
    "    # 5x5 conv, 6 inputs, 16 outputs\n",
    "    'cnn2': tf.Variable(tf.truncated_normal(shape=(5, 5, 6, 16), mean=w_mu, stddev=w_sigma)),\n",
    "    # Fully Connected 1: Input = 400. Output = 120\n",
    "    'fc1': tf.Variable(tf.truncated_normal(shape=(400, 120), mean=w_mu, stddev=w_sigma)),\n",
    "    # Fully Connected 2: Input = 120. Output = 84.\n",
    "    'fc2': tf.Variable(tf.truncated_normal(shape=(120, 84), mean=w_mu, stddev=w_sigma)),\n",
    "    # Fully Connected 3: Input = 84. Output = 44.\n",
    "    'out': tf.Variable(tf.truncated_normal(shape=(84, n_classes), mean=w_mu, stddev=w_sigma))\n",
    "}\n",
    "\n",
    "# filter bias is (output_depth,)\n",
    "biases = {\n",
    "    # Layer 1: Convolutional. Input = 32x32x1. Output = 28x28x6.\n",
    "    'cnn1': tf.Variable(tf.zeros(6)),\n",
    "    # Layer 2: Convolutional. Output = 10x10x16.\n",
    "    'cnn2': tf.Variable(tf.zeros(16)),\n",
    "    # Fully Connected 1: Input = 400. Output = 120\n",
    "    'fc1': tf.Variable(tf.zeros(120)),\n",
    "    # Fully Connected 2: Input = 120. Output = 84.\n",
    "    'fc2': tf.Variable(tf.zeros(84)),\n",
    "    # Fully Connected 3: Input = 84. Output = 44.\n",
    "    'out': tf.Variable(tf.zeros(n_classes))\n",
    "}\n",
    "\n",
    "def LeNet(x):   \n",
    "    # TODO: Layer 1: Convolutional. Input = 32x32x1. Output = 28x28x6.\n",
    "    # TODO: Activation 1.\n",
    "    cnn1 = conv2d(x, weights['cnn1'], biases['cnn1'])\n",
    "    \n",
    "    # TODO: Pooling. Input = 28x28x6. Output = 14x14x6.\n",
    "    pool1 = maxpool2d(cnn1)\n",
    "\n",
    "    # TODO: Layer 2: Convolutional. Output = 10x10x16.\n",
    "    # TODO: Activation 2.\n",
    "    cnn2 = conv2d(pool1, weights['cnn2'], biases['cnn2'])\n",
    "\n",
    "    # TODO: Pooling. Input = 10x10x16. Output = 5x5x16.\n",
    "    pool2 = maxpool2d(cnn2)\n",
    "\n",
    "    # TODO: Flatten. Input = 5x5x16. Output = 400.\n",
    "    fc0 = flatten(pool2)\n",
    "    \n",
    "    # TODO: Layer 3: Fully Connected. Input = 400. Output = 120.\n",
    "    fc1 = tf.add(tf.matmul(fc0, weights['fc1']), biases['fc1'])\n",
    "    # TODO: Activation.\n",
    "    fc1 = tf.nn.relu(fc1)\n",
    "\n",
    "    # TODO: Layer 4: Fully Connected. Input = 120. Output = 84.\n",
    "    fc2 = tf.add(tf.matmul(fc1, weights['fc2']), biases['fc2'])\n",
    "    # TODO: Activation.\n",
    "    fc2 = tf.nn.relu(fc2)\n",
    "\n",
    "    # TODO: Layer 5: Fully Connected. Input = 84. Output = 44.\n",
    "    logits = tf.add(tf.matmul(fc2, weights['out']), biases['out'])\n",
    "#     TODO: Activation.\n",
    "#     logits = tf.nn.relu(logits)\n",
    "    \n",
    "    return logits"
   ]
  },
  {
   "cell_type": "code",
   "execution_count": 28,
   "metadata": {
    "collapsed": true
   },
   "outputs": [],
   "source": [
    "x = tf.placeholder(tf.float32, shape=(None, 32, 32, 1))\n",
    "y = tf.placeholder(tf.int32, shape=(None))\n",
    "one_hot_y = tf.one_hot(y, n_classes + 1)"
   ]
  },
  {
   "cell_type": "code",
   "execution_count": 29,
   "metadata": {
    "collapsed": false
   },
   "outputs": [],
   "source": [
    "rate = 0.001\n",
    "\n",
    "logits = LeNet(x)\n",
    "cross_entropy = tf.nn.softmax_cross_entropy_with_logits(logits, one_hot_y)\n",
    "loss_operation = tf.reduce_mean(cross_entropy)\n",
    "optimizer = tf.train.AdamOptimizer(learning_rate = rate)\n",
    "training_operation = optimizer.minimize(loss_operation)"
   ]
  },
  {
   "cell_type": "code",
   "execution_count": 58,
   "metadata": {
    "collapsed": true
   },
   "outputs": [],
   "source": [
    "correct_prediction = tf.equal(tf.argmax(logits, 1), tf.argmax(one_hot_y, 1))\n",
    "accuracy_operation = tf.reduce_mean(tf.cast(correct_prediction, tf.float32))\n",
    "saver = tf.train.Saver()\n",
    "\n",
    "def evaluate(X_data, y_data):\n",
    "    num_examples = len(X_data)\n",
    "    total_accuracy = 0\n",
    "    sess = tf.get_default_session()\n",
    "    for offset in range(0, num_examples, BATCH_SIZE):\n",
    "        batch_x, batch_y = X_data[offset:offset+BATCH_SIZE], y_data[offset:offset+BATCH_SIZE]\n",
    "        accuracy = sess.run(accuracy_operation, feed_dict={x: batch_x, y: batch_y})\n",
    "        total_accuracy += (accuracy * len(batch_x))\n",
    "    return total_accuracy / num_examples"
   ]
  },
  {
   "cell_type": "code",
   "execution_count": 41,
   "metadata": {
    "collapsed": false
   },
   "outputs": [
    {
     "name": "stdout",
     "output_type": "stream",
     "text": [
      "Training...\n",
      "\n",
      "EPOCH 1 ...\n",
      "Validation Accuracy = 0.519\n",
      "\n",
      "EPOCH 2 ...\n",
      "Validation Accuracy = 0.771\n",
      "\n",
      "EPOCH 3 ...\n",
      "Validation Accuracy = 0.849\n",
      "\n",
      "EPOCH 4 ...\n",
      "Validation Accuracy = 0.900\n",
      "\n",
      "EPOCH 5 ...\n",
      "Validation Accuracy = 0.915\n",
      "\n",
      "EPOCH 6 ...\n",
      "Validation Accuracy = 0.940\n",
      "\n",
      "EPOCH 7 ...\n",
      "Validation Accuracy = 0.937\n",
      "\n",
      "EPOCH 8 ...\n",
      "Validation Accuracy = 0.948\n",
      "\n",
      "EPOCH 9 ...\n",
      "Validation Accuracy = 0.954\n",
      "\n",
      "EPOCH 10 ...\n",
      "Validation Accuracy = 0.958\n",
      "\n",
      "Model saved\n"
     ]
    }
   ],
   "source": [
    "with tf.Session() as sess:\n",
    "    sess.run(tf.global_variables_initializer())\n",
    "    num_examples = len(X_train)\n",
    "    \n",
    "    print(\"Training...\")\n",
    "    print()\n",
    "    for i in range(10):\n",
    "        X_train, y_train = shuffle(X_train, y_train)\n",
    "        for offset in range(0, num_examples, BATCH_SIZE):\n",
    "            end = offset + BATCH_SIZE\n",
    "            batch_x, batch_y = X_train[offset:end], y_train[offset:end]\n",
    "            sess.run(training_operation, feed_dict={x: batch_x, y: batch_y})\n",
    "            \n",
    "        validation_accuracy = evaluate(X_valid, y_valid)\n",
    "        print(\"EPOCH {} ...\".format(i+1))\n",
    "        print(\"Validation Accuracy = {:.3f}\".format(validation_accuracy))\n",
    "        print()\n",
    "        \n",
    "    saver.save(sess, 'lenet_' + iteration)\n",
    "    print(\"Model saved\")"
   ]
  },
  {
   "cell_type": "code",
   "execution_count": 57,
   "metadata": {
    "collapsed": false
   },
   "outputs": [
    {
     "name": "stdout",
     "output_type": "stream",
     "text": [
      "[16  5 38 33 11 38 18 12 25 35 12  7 19 32 12  9 23 20 27 38  4 33  9 25  4\n",
      " 11 13 10 10 11  5 17 34 19  2 17  3 12 16 20  7 30 18  8 24 11  3 10 20  8\n",
      " 39 13 15  9 13 35 10 26  9 16 36  4  4  7]\n",
      "[16  1 38 33 11 38 18 12 25 35 12  7 23  7  4  9 21 20 27 38  4 33  9  3  1\n",
      " 11 13 10  9 11  5 17 34 23  2 17  3 12 16  8  7 30 18 12 24 25  3 10 18  8\n",
      " 25 13 15  9 13 35  5 26  9 16 38 10  4  9]\n",
      "[15  9 26  5  5 30 11 25 20 34  5 12  5 35 24 37 19 33 25 32 10 35  3 12 22\n",
      " 13  8  5  1 14 12 32  3 38  9 33 12 10  4 11 33  7 35 29 33  4  0 14 16 10\n",
      " 20  3 27 22 12 12 13  8 12  8  1 10 35 20]\n",
      "[15  9 26  2  5 28 11 25 30 34  5 12  1 10 25 25 21 33 25  7 10 35  3  7 22\n",
      " 13  3  1  2 14 12 32  3 38  9 33  1 10  5 11 33  4 35 25 33  4  1 14 16 10\n",
      " 30  3 27 29  1 17 13  7  1  8  2 10 10 30]\n",
      "[ 1  6 36 20 14 13 11 10 26 40  1 38 41  3  6 26 17 21  2  8 11 21  7 24 30\n",
      " 25 17  8  6  9  8  4 13 16  0 19 26  9 13 14 29 17 13 38 18 20 33  2  3 40\n",
      " 13  5  8  7 36 25 20 25 20  7 10  7 20 29]\n",
      "[ 1  6 36  3 14 13 11 10 18 40  2 38 41  4  6 18 17 25  2 41 11 21  7 24 11\n",
      " 25 17  3  6  9  7  4 13 16  4 25 18  9 13 14 29 17 13 38 26 25 33  1  3 40\n",
      " 13  2  8  4 36 25 20 25 18  1 10  8 10 29]\n",
      "[12 25 31  2  8 12 33 28 17  9  7  1 14  9  3 20 13 15 15 38 25  8 25 13 10\n",
      "  3  8 10  2  4  3  1 14 12 40  5  8 36 25 13 25 26 33 19 12 20  1 26 12 13\n",
      " 20  1 20 40  1  8 12 38  3 14  1 36 34 28]\n",
      "[12 38 31  2  8 38 18 28 17  9  4  1 17  9  2 31 13 15 15 38 25  5 25 13 10\n",
      "  5  4 10  2  4  5  1 14 12 12  5  8 36 25 13 33 18 33 19 12 30  4 18 12 13\n",
      " 20  0 10 40  5  8 12 38 20 14  0 36 34 28]\n",
      "[35 12 25 15 35 14 26 24  1 17  5 25  5 26 18 24 34  7 25 20 34 39 31  1  2\n",
      " 20 31 26  1  0 33 30 17 13  1 31 13 35  7  1 33 28 35 26 12  5  4 14 12 20\n",
      " 32  1  3 25 19 19 38 38 12 42  2 40 17  5]\n",
      "[35 13 25 15 35 14 18 25  1 12  5 25  2 18 18 18 34  9 25 18 34 39 31  1  9\n",
      " 35 31 26  1  1 33 30 17 13  1 31 13 35  5  1 33 28 35 26 12  5  2 14  4  3\n",
      " 32  1  7 38 19 11 38 38  1 42  2 40 17  4]\n",
      "[ 8  4  7  6 31 35  9 38  7  2  8 18  7 25 10  3 10 34  8 22 10 29  9  5 38\n",
      " 38 18  2 13 28 17  2 16 14 12  6 35  3 38 10  9 13 13 19  3 20  7 13 19 13\n",
      " 10 26 20  3 20  1 41 13  1 11 19 13 38  7]\n",
      "[ 8  4  5  6 31 35  9 38  8  2  4 18  3 25 10  6  7 34  4 22 10 29  9  2 38\n",
      " 38 18  7 13 28 17  2 16 14 12 40 35  3 38 10  9 38 13 39  3 11  7 38 19 13\n",
      " 10 18  3  5 26  1 41 13  1 18 19 13 38  4]\n",
      "[35 25 34  8 17  9  4 33 28 10 12  8  4 38  7 11  8 36  1  1 38 36  8 25  8\n",
      "  2 25 14  5 26 29 10 10 14  7  5  3 12 19  7  9 13 13 18 38 34 27 13 34 34\n",
      " 12  6 10 10  7  3 22 17  7 28 25  1 31 12]\n",
      "[35 25 34 12 17  9  4 33 28  2  1  5  4 38  4 12 38 36 10  0 38 36  8 25  5\n",
      "  2 25 14  2 26 29 10 10 14  9  2  3  4 19  9 10 13 13 20 38 34 11 13 34 34\n",
      " 12  6 10 10  8  3 22 17  7 30 25  1 31 38]\n",
      "[38  7  9 20  1 40  5 12 14  7 39  8 35 11 25 17  1 38  7 13 14 40  4 35  3\n",
      "  0 35 18 35 36 24 13 33  1 35  6  5 10 12 31  9 14 17 26 12  3 20  1 10  9\n",
      " 31 11 22 28 10  7 29 20 32 42  1  3  8  7]\n",
      "[38  8  9 10  2 40  1 38 14  8 39  6 35 25 25 17  2 38  7 13 14  7  8 35  3\n",
      "  1 35 12 35 36 24 13 33  2 35  6  2 10 12 31  9 14 17 26  4  3 10  5 30  9\n",
      " 31 40 22 30  9  7 23  4 32 42  1  3  8  2]\n",
      "[25 22 38 33  3  7  8  7 26 26 31 14 11 13  3  8 26  7 13 15 30  1 12 19 38\n",
      " 32  5 35 35  6  5 12  4  1  1  1 12  9 36  5  5 13 38  7 13  8 13 24 17 10\n",
      " 10 26 12 20  7 13  5 23  3  7 41  6 13 33]\n",
      "[25 22 38 33  3  1  8  4 18 26 31 14 11 13  3  5 18  4 13 15 23  1 12 31 38\n",
      "  6 10 35  8  6  5 12  4  1  1  1 12 12  4  5  9 13 38  4 13  8 13 24 17 10\n",
      " 10 18 12 23 10 10  1 23  3  8 41  6 13 33]\n",
      "[ 3  2 13  3 17 10 23  1 35 10  1 30  5  5 35 13 16 17 11  3 20 29  1 27  2\n",
      " 11  4 19  3  9 32 38 28  7 27 41  1 29 11 10 25  1 10 12 30 14 12 12 15 13\n",
      " 28 13  2 17  3 35 25  7  4  7 16 29 17  9]\n",
      "[ 3  2 13  0 17 10  7  1 35 10  2 30  5  5 35 13 16 17 11  3  4 29  2 26  2\n",
      " 11  4 19  3  9  7 38 28  9 27 41  1 29 11 10 25  1 10 38 30 14  1 12  7 13\n",
      " 28  8  2 17  5 35 25  8  4  7 16 29 17  9]\n",
      "[ 8  7 17 11  5 12 12  7  1  7  6 17 13  5 12 11 29 13 13 10 13 13  4  7 12\n",
      " 10 25 34 11  0 15 10 36 35 26  1 25 12 29  8 13 14 35 12 35 35 14 25 17 32\n",
      "  5  4  7 13 29  2  3  7  1  0  3  4 39  6]\n",
      "[ 7  8 17 11  2 13 12  7  1  2 32 17 13  5 12 11 29 13 13 10  5 13  2  7 13\n",
      " 10 14 13 11  4 15 10 36 35 26  0 25 18 29  8 13 14 35 12 35 35 14 25 17 34\n",
      "  5  4  4 13 29  4  5  8  1  2  3  4 39 12]\n",
      "[40 16  1 12 26 16  1 36 11 39  7 32  2 36  1  5 10 13  5 30 38 13 25 27 11\n",
      " 35 22  5 14 14 15 38 39 38  4 10  7  5 35 17  7 17  0  5  3 28 10 28  9 28\n",
      " 22 42  5 12  3 23  3 13 35  3 18  7  1  8]\n",
      "[ 7 16 12 12 18 16  2 36 11 39  4  6  2 36  1  5 10 13  5 30 38 13 14 11 11\n",
      " 35 25  2 14 38 15 38 39 38  4  1  3  1 35 17  4 17  4  2  5 30 10 28  9 28\n",
      " 22 42  2 12  3 23  3 13 10  3 12  4  1  5]\n",
      "[ 3  7  4  4 13 29  3  7 15 15  1 33  4 19 12 38  7 10  4 20  7 38  2  8  0\n",
      "  5  2 42 15 15  4 15 12 25  5  5 12  4 20  0 17  0 26 31  4 13 17  8 11  8\n",
      "  1  5  4 17  3  4 25  4 15  7 38 33 37 40]\n",
      "[ 3  9 10  4 13 28  3  4 15 15  0 33  2 39 12 38  7 10  2 10  2 38  2  5  1\n",
      "  3  1 42 15 15  4 15 38 25  5  5 12  2 26  0 17  0 26 31  4 13 17  1 11  8\n",
      "  1  2  4 14  3  4 25  4 15  2 38 27 37  7]\n",
      "[ 1 26 28 27 10  3 15 11 12 10 13 13 25  4  1 38 12 19 10  2  2 29 24 10  1\n",
      " 28  3 30  5  6  4  5  4 33  3  7 25 16 42 35 10 28  4  1  7  5  3 30  1  1\n",
      " 20 28 35 24 35  1 12  2 13 13 33 17 35  8]\n",
      "[ 1 18 28 11 10  9 15 11 12 10 13 13 25  4  1 38 12 23 10  2  1 29 24 10  1\n",
      " 28  3 11  5  6  9  2  1 33  3  9 25 16 42 35 10 28  4  1  7  5  3 23  1  1\n",
      " 10 30 35 24 33  1 12  2 13 13 33 17 35  5]\n",
      "[15 31 30 42 11 24 12  7 25  8 13 21 20 12  4 13 23 13 12 13 13 38 13 20 12\n",
      " 25  7  1 19  3 10  5  8 17 38 20  5 38  2 11 31  4 42 12 12 24 38  0 38  3\n",
      " 13 34 22 12 20 15 25 42 36 20 20 27 15 40]\n",
      "[15 31 33 42 11 24 38  4 27  7 13 21 38 38  1 13 23 13 18 13 13 38 35  5 12\n",
      " 25  4  1 19  3  9  2  3 17 38  5  5 38  1 11 31  2 42 12 35 29 38  0 38 10\n",
      " 13 34 22 12 31 15 31 42 36  7 20 27 15 12]\n",
      "[14 35  5 32 20  7 12  7  4 10  3 23 10 39  5 40  5 31 10  5 31  4 39  1 28\n",
      "  7 38 35  8 29 38  9 16 17  8 12 20  4 12  3 18 12  8 20  4 20 12 35 15  4\n",
      " 35  8 14 30 35 12 30 27  7 12 27  8 27 41]\n",
      "[14 10  5 32  3  7 12  7  4 10  8 23 10 39  2  7  5 31 10  5 31  7 39  0 23\n",
      "  7 38 35 38 25 38  9 16 17 12 12 10  5 38  3 12 12  8 10  2 10 12 35 15  4\n",
      " 35  5 14 11 35 38 30 11  4 12 18  8 11 41]\n",
      "[ 2  7  2 10 12  9 40  7 12 31  1 11 17 35  4 26  4 34 40 11 11 33 15 10 12\n",
      " 12 38 31 32  0 16  8  5  7  7 14 42  5 20 19  1  1  4  7 30  7 16 33 26 31\n",
      " 37 30  9 26  5 35 20 20 20  7 35 15 38 12]\n",
      "[ 2  8  2 35 38  9 12  7 12 31  2 11 17 35  4 18  4 34 40 11 11 33 15  5 12\n",
      " 12  7 31 32  4 41  8  2  8 39 14 42  7 11 21  2  2  2  8 18  5 16 33 18 31\n",
      " 37 30  9 18  5 35 20 20 23  5  8  9 38 12]\n",
      "[35  5 11 12 33  8 38  3 32 31 32  3 40  7 12  7  5 40  5 12 18 12 35  8 33\n",
      "  3 15 12 14  9  5 31 32  3 25 33 35  9 32 17 41 26 38 20 11 41 34 39 18  5\n",
      "  7 26 17 31 24 37 12 22  3  8  8 14  9  8]\n",
      "[35  5 11 12 33  8 38  3 32 31 41 35 40  7 12  8  8 40  5 17 18 12 35  8 33\n",
      "  3 15 12 14  9  5 31 32  3 25 33 35  9 32 17  6 26 38 20 11 41 34 39 18  5\n",
      "  9 26 17 31 24 37 12 22  5  8  7 14  9  8]\n",
      "[38  0  3 25 25 29 40 16 35 27 25 31 30  9  9 11 17 29 14 17 26 20  5  7 20\n",
      " 34 23  7 14 22 37 35 28 28  3  7 17 37 31 11  7  5 40  7 42 18 14  7 42  8\n",
      " 29 25  0 17 36 19 11  7 34 14  7 17 29 33]\n",
      "[14  5  5 25  3 29 40 16 35 11 18 39 30  9  9 11 17 29 14 17 26 11  5  5  3\n",
      " 34 23  7 14 22 37 35 28 28  3  8 17 37 31 11  9  5  8  9 42 18 14  3 42  8\n",
      " 18 14  0 14 36 11 11  8 34 14  7 17 29 33]\n",
      "[28  7 26 14 33 16 19 23  6  8  7 34 35 11 35  9 15 17 26 42 26 17  9 34 42\n",
      " 31  9  9 35  7 11  8 28 26  5  7 27 20 40 33 20 41 16 26  8  8 34 31  9  9\n",
      " 15 26  9 25 42 35 33 20 17 15  7 26 34  5]\n",
      "[28  7 18 14 33 16 19 23  6  8  8 34 35 25 35  9 15 14 26 42 26 17  9 34 42\n",
      " 31  9  8 35  7 25  8 28 26  3  8 11  8 40 33 25 41 16 18  8  3 34 31  9  9\n",
      "  7 18  8 25 42 35 33 30 17 15  7 18 34  3]\n",
      "[ 3 19 25 14 17 40 25 17  7 20 26 11 29 26 11 31  8 35 27 18  3 42 34 20 26\n",
      "  8  7 20 15 20  0 12 31 25  8 32 10 38  3  8  7  8  9  7 17 18 30  8 42 16\n",
      "  0  8 17 20 26 11 25  3 39 20 29  3  9 25]\n",
      "[ 3 30 14 14 17  7 27 17  8 23 18 11 25 18 11 31  8 35 11 18  3 42 34 31 26\n",
      "  8  7 20 15  3 18 35 31 25  8 32  7 34  7  8  8  8  9  7 17 18 30  3 42 16\n",
      "  0  8 17 30 18 11 14  3 39 25 29  3  9 25]\n",
      "[25 25  3 28 20 41 22 25 17 20  3  9 28 28  6 30 23  7 17 20 14 17 11 15 25\n",
      "  6 25  8 24 16 23 41 16 10 32 10  8  7 25 10  9 11 25 20 28  8 33 35 19 34\n",
      "  9 35 17  3 26 14 15 28 17 31 24 16  6 17]\n",
      "[25 25  3 28 20 42 22 25 17 20  3  9 28 28  6 30 21  7 17 35 14 17 11 15 26\n",
      "  6 25  7 18 16 23 42 16  9 32  7  7  7 25 21  9 11 25 20 23  9 33 35 19 34\n",
      "  9 35 17  7 26 14  7 28 17 31 25 16  6 17]\n",
      "[ 9 40 15 22  8 25 12 30 31  8 11 34  9 17 26 17 30 27  6 32 25 16 35 12 18\n",
      " 40 28 42 11 15 40 31 33 26 15 12 36  7 26 20 20 26 36 19 20 37 14  8 28 34\n",
      " 14 26 39 30 35 35 33 35 20  2 11 14 31 22]\n",
      "[ 9  7 15 22  7 25 17 23 31  7 25 34  9 17 26 17 30 27  6 32 25 16 35 18 30\n",
      " 40 30 42 11 15 40 31 33 18 15 17 36 39 26 20 31 18 36 21 20 37 17 41 23 34\n",
      " 14 18 39 11 35 35 33 35 31 40 11 14 31 22]\n",
      "[24 11 20 16 35 36 25  3 19 35 30 14 23 16 15 17 27 33 29 30 14 30  5 29 29\n",
      " 41 21 33 33 14 15 26 16 39 17 28 23 31 36 31 20 34 29 16 22 11 34 31 14 30\n",
      " 15 11 25 17 15 40 11 20 17 26 40 34 30 26]\n",
      "[24 11 28 16 35 36 18  6 28 35 30 14 23 16 15 17 27 33 29 11 14 28  0 29 24\n",
      " 42 21 33 33 14 15 18 16 39 17 23 21 31 36 31 22 34 29 16 22 11 34 31 17 23\n",
      " 15 11 18 17 15 40 11 20 17 26 40 34 30 22]\n",
      "[22 11 11 34 11 26 36 22 14 26  0 39 26 32 18 17 26 15 28 30 26 36 15 31 12\n",
      " 26 31 20 37 20 29 31  6 36  4 26 16 16 16 36 33 36 31 25 40  0 16  6 14 26\n",
      " 40 14 16 42 33 33 14 23 27 42 20 25 14 15]\n",
      "[22 11 11 34 11 26 36 22 14 26  0 39 18 32 36 14 18 15 18 30 18 33 15 31 28\n",
      " 18 31 28 37 18 29 31  6 36 30 26 16 16 16 36 33 36 31 27 40  0 16  6 14 26\n",
      " 40 14 16  6 33 33 14 23 27 42 28 26 14 15]\n",
      "[ 6 14 22 16  6 28 16 20 30 17 33 36  6 34 21 15 19 14 28 42 36 16 32 29 33\n",
      " 33 20 30 19 23 33 25 22 20 24 28 23 34 23 31 31 22  6 25 14 25  6 19 16 19\n",
      " 20  6 36 40 22 32 20 39 31 40 20 29 15 26]\n",
      "[ 6 14 22 16  6 23 16 20 30 14 33 36  6 34 21 15 19 14 28 42 36 16 32 29 33\n",
      " 33 30 30 31 21 33 26 22 31 24 28 23 34 23 31 31 22  6 33 14 26  6 19 16 23\n",
      " 31  6 36 40 22 32 23 39 31 40 20 29 15 26]\n",
      "[40 39 19 14 26 28 29 22 17 34 33 19 26 14 20 30 28 33 33 33 27 24 16 34 34\n",
      " 15 23 28 34 31 37 30 28 15  6 16 15  6 41 20 33 37 33 28 26 16 23 12 28 30\n",
      " 25 25  1 36 30 16 31 24 29 14 31 19 31 34]\n",
      "[40 39 23 14 26 23 29 22 14 34 33 19 26 14 30 30 28 33 33 33 27 24 16 34 34\n",
      " 15 23 28 34 31 37 30 30 15 42 16 15  6 41 30 33 37 33 29 26 16 23 15 28 23\n",
      " 27 24  0 36 30 16 31 24 29 14 31 21 31 34]\n",
      "[28 39 41 19  6 31 19 32 34 42 31  6 28 19 25 31 34 30 20 16 31 19 22 40 15\n",
      " 34 37 15 15 26 30  0 16 39 15 15 33 33 20 28 22 26 16 29 36  8  6 36 26 26\n",
      " 20 41 36  4 34 33 21  0 27 19 26 32 28 28]\n",
      "[28 39 41 19  6 39 19 32 34 42 31  6 28 23 27 31 34 23 30 16 39 39 22 40 15\n",
      " 34 37 15 15 26 23  0 16 39 15 15 33 33 23 28 22 26 16 29 36 41  6 36 26 30\n",
      " 20 41 36 15 34 33 21  0 27 31 26  6 28 30]\n",
      "[41 28 28 30 31 19 19 20 22 28 34 34 33 40 31 22 31 20 19 36 40 19 20 22 29\n",
      " 33 16 26 34 31 36 24 28 31 24 23 26  3 23 15 30 27 41 30 15 20 25 15 36 34\n",
      " 16 30 40  0 26 19  3 34 15 33 15 20  0  4]\n",
      "[42 30 28 30 31 19 21 20 22 28 34 34 33 40 31 22 39 23 23 36 40 28 20 22 29\n",
      " 33 16 26 34 31 36 24 28 31 24 24 26  6 23 15 23 27 41 23 15 20 27 15 36 34\n",
      " 16 30 40  0 26 21  6 34 15 33 15 20  0 39]\n",
      "[15 37 22 16 41 29 16 29 22 20 15 40 36 42 30 22 28 16 15 19 28  6 23 36  0\n",
      " 28 40 15 15 40 22 36 16 42  0 16 12 20 15 24 32 16 24 32 19 32 22 32 25 13\n",
      " 24  8 20  6 37 37 19 16 23 26 33  0 39 24]\n",
      "[15 37 22 16 41 29 16 29 22 23 15 40 36 42 30 22 28 16 15 19 28  6 23 36  0\n",
      " 28 40 15 15 40 22 36 16 42  0 16 15 20 15 24 32 16 24  6 19 32 22  6 27 30\n",
      " 24 41 20  6 37 37 21 16 23 26 33  0 39 24]\n",
      "[16 19 22  1  6 19 33 33 30 41  6 28 22 22 28 28 34 29 29 42  4 20  3 30 27\n",
      " 37 15 20 20 26 28 41 20 32 30 28 34 16 23  1 39 41 33 27 28 29 22 30 41 28\n",
      " 16  0 20 32  6  6 22 40 26 40 34 36 40  9]\n",
      "[41 21 22 40  6 19 33 33 28 41  6 28 26 22 30 28 34 28 29  6  0 30  0 30 23\n",
      " 37 15 30 20 26 28 41 20  6 23 28 34 16 23  0 39 41 33 27 28 24 22 28 41 28\n",
      " 16  0 20 32  6  6 22 40 26 40 34 36 40 16]\n",
      "[42 39 34 29 20  0 28 16  6 19 24 34 26 24 27 24 22 28 29 36 30 30 24 19 20\n",
      "  8 23 26 36 20 34 21  6 19 30 40 23 23 29  1 41 23 20 21 16 16 26  3 36 29\n",
      " 29 28 26 23 20 39 20 42 24  1  3  8 36 19]\n",
      "[42 39 34 29 30  0 28 16  6 21 24 34 26 24 27 29 22 28 29 36 30 30 29 21 28\n",
      " 41 23 26 36 20 34 21  6 39 30 40 23 21 29  0 41 21 20 21 16 16 26  6 36 29\n",
      " 29 28 26 23 20 39 26 42 24  0  0 41 36 30]\n",
      "[20 39 19  6 42 19 28 20  3 30 23 25 37 26 19 36 34 42 22 28  0 28 28  0 12\n",
      " 34 30 28 36 36 25  0 20 25 24 26 29 34  0 37 37 34 19 24 20 20 19 39 37  6\n",
      "  6 11 39  6 22  6 21 27 26 26 39 40 16 36]\n",
      "[30 39 21  6 42 19 28 20  0 20 21 27 37 26 21 36 34 42 22 28  0 30 30  0 40\n",
      " 34 30 28 16 36 27  0 30 27 24 26 29 34  0 37 37 21 19 24 26 20 19 39 37  6\n",
      "  6 40 39  6 22  6 21 27 26 26 39 40 16 36]\n",
      "[22 26  3 21 19 26 19 18 16 36 19 39  3 16 42 22 29 22 32 39 27 19 29  2 29\n",
      " 20 34 42 39 19 40 39 32 20 40 39 26 24 42  6 32 27 29 25 36 29 19 20 22 39\n",
      " 40 39 22 34 19 20 36 40 40  6 25 20 40 28]\n",
      "[22 26  0 21 19 26 19 20 16 36 23 39  0 16 42 22 29 22 32 39 27 19 24 40 29\n",
      " 23 34 42 39 19 40 39 32 23 40 39 26 29 42  6 32 27 29 27 36 24 19 23 22 39\n",
      " 40 39 22 34 23 20 36 40 40  6 27 20 40 23]\n",
      "[19 34 20 20 23 36  6 40 22 29 40  6 34 11 29 20 20 21 34 37 36  6 20 34 36\n",
      " 22 23 11 19 25 20 32 37 29  7 32 36 40 12 29 37 23 28  1 40 25 25 29 41 20\n",
      " 42 24 21 29 30 39 37 35 24 19 42 37 24 37]\n",
      "[23 34 20 20 23 36  6 40 22 24 40  6 34 40 24 20 20 21 34 37 36  6 20 34 36\n",
      " 22 21 40 19 27  6 32 37 29 39 32 36 40 40 29 37 21 20 37 40 27 27 29 41 20\n",
      " 42 24 21 29 21 39 37 36 24 19 42 37 24 37]\n",
      "[37 22 25 29  3 36 29 32 19 39 40 32 42  0 29 36 32 27 40 26 36 20 22 27 41\n",
      "  4 36 42 36 36 24 30 19 36 19 22 24  8 21 40 29 19 32 41  0 19 40 36 40 36\n",
      " 19 20  0 37 22 22 30 25 29 40  0 26 22 16]\n",
      "[37 22 27 29  0 36 29 41 19 39 40 32 42  0 29 36 32 27 40 36 36 20 22 27 41\n",
      "  0 36 42 36 36 24 21 21 36 19 22 29 41 21 40 29 21 32 42  0 21 40 36 40 36\n",
      " 19 20  0 37 22 22 20 27 29 40  0 24 22 41]\n",
      "[22 22 25 41 22 24 19  0 20 19 42 37 20 37 42 16 37 20 42 37 29 24 19 29 24\n",
      " 37 22  3 26 40  6 26 23  6  0 42 39 22 29  6 19 24 29 42 25 42 41 19 23  8\n",
      " 37 40 42 22 29 32 25 22 41 42 40 42 32 32]\n",
      "[22 22 27 42 22 24 19  0 20 21 42 37 20 37 42 41 37 20 42 37 29 24 39 24 24\n",
      " 37 22  0 39 40 32 22 24 42  0 42 39 22 29 42 19 24 24 42 27 42 42 19 24 41\n",
      " 37 40 42 22 29 32 27 22 41 42 40 42 32 41]\n",
      "[ 3 32 29 39 19 32 19 37 42 32 20 19 37 41 29 29 39 33 23  3 19 39 23 29  0\n",
      " 30 27 28 20 39 37 24  7 42 37 20 21 32 37 41 37 24 19 32 20 21 21 19 27 24\n",
      " 39 24 32 19 27 41 32 37 19 42 19 16 21 19]\n",
      "[42 32 29 39 19 32 21 37 42 41 20 21 37 42 29 29 39 27 21 42 19 39 21 29  0\n",
      " 20 27 20 20 39 37 24 39 42 37 20 21 32 37 42 37 24 19 32 20 21 21 21 27 24\n",
      " 39 24 32 21 27 41 32 37 19 42 19 41 21 39]\n",
      "[23 20 20 31 19 39 25 39 35 29 21 24 20 41 23 20 37 39 19 20 25 26 19 41 42\n",
      " 41 16 32 27 24 32 27 41 24 32 41 26 30 19 30 19 32 37 21 29  0 24 32 24 25\n",
      " 32 32  1 24 32 24 37 23 21 23 37 27 24  8]\n",
      "[21 20 20 39 19 39 27 39 37 24 21 24 20 41 21 20 37 39 39 27 27 24 19 41 42\n",
      " 41 41 32 27 24 32 27 41 24 32 41 24 21 19 21 19 32 37 21 24  0 24 32 24 27\n",
      " 32 32 37 24 32 24 37 21 21 21 37 27 24 41]\n",
      "[ 9 19 37 27 32 26 19 27 37 19 19 37 32 32 32 19 27  0 27 19 41 37  9 25  0\n",
      "  0 37 32 32 41 32  0  3 32 25 41 41 37 19 19 37 37 32 16 32  6 41 32 25 41\n",
      " 25 19 19 32 41 19 35 37 37  4  0  0  1 19]\n",
      "[41 19 27 27 32 27 19 27 37 19 19 37 32 32 32 19 27  0 27 19 41 37 41 27  0\n",
      "  0 37 32 32 41 32  0 41 32 27 41 41 37 19 19 37 37 32 41 32 32 41 32 27 41\n",
      " 27 19 19 32 41 19 37 37 37  0  0  0  0 19]\n",
      "[ 3 20  0 41 41 37 37 19  6 19 19 37 19 37 41 41 32 19 32  0]\n",
      "[ 0 27  0 41 41 37 37 19 32 19 19 37 19 37 41 41 32 19 32  0]\n",
      "Test Accuracy = 0.708\n"
     ]
    }
   ],
   "source": [
    "with tf.Session() as sess:\n",
    "    saver.restore(sess, tf.train.latest_checkpoint('.'))\n",
    "\n",
    "    test_accuracy = evaluate(X_test, y_test)\n",
    "    print(\"Test Accuracy = {:.3f}\".format(test_accuracy))"
   ]
  },
  {
   "cell_type": "markdown",
   "metadata": {},
   "source": [
    "### Question 4\n",
    "\n",
    "_How did you train your model? (Type of optimizer, batch size, epochs, hyperparameters, etc.)_\n"
   ]
  },
  {
   "cell_type": "markdown",
   "metadata": {},
   "source": [
    "**Answer:**"
   ]
  },
  {
   "cell_type": "markdown",
   "metadata": {},
   "source": [
    "### Question 5\n",
    "\n",
    "\n",
    "_What approach did you take in coming up with a solution to this problem? It may have been a process of trial and error, in which case, outline the steps you took to get to the final solution and why you chose those steps. Perhaps your solution involved an already well known implementation or architecture. In this case, discuss why you think this is suitable for the current problem._"
   ]
  },
  {
   "cell_type": "markdown",
   "metadata": {},
   "source": [
    "**Answer:**"
   ]
  },
  {
   "cell_type": "markdown",
   "metadata": {},
   "source": [
    "---\n",
    "\n",
    "## Step 3: Test a Model on New Images\n",
    "\n",
    "Take several pictures of traffic signs that you find on the web or around you (at least five), and run them through your classifier on your computer to produce example results. The classifier might not recognize some local signs but it could prove interesting nonetheless.\n",
    "\n",
    "You may find `signnames.csv` useful as it contains mappings from the class id (integer) to the actual sign name."
   ]
  },
  {
   "cell_type": "markdown",
   "metadata": {},
   "source": [
    "### Implementation\n",
    "\n",
    "Use the code cell (or multiple code cells, if necessary) to implement the first step of your project. Once you have completed your implementation and are satisfied with the results, be sure to thoroughly answer the questions that follow."
   ]
  },
  {
   "cell_type": "code",
   "execution_count": null,
   "metadata": {
    "collapsed": true
   },
   "outputs": [],
   "source": [
    "### Load the images and plot them here.\n",
    "### Feel free to use as many code cells as needed."
   ]
  },
  {
   "cell_type": "markdown",
   "metadata": {},
   "source": [
    "### Question 6\n",
    "\n",
    "_Choose five candidate images of traffic signs and provide them in the report. Are there any particular qualities of the image(s) that might make classification difficult? It could be helpful to plot the images in the notebook._\n",
    "\n"
   ]
  },
  {
   "cell_type": "markdown",
   "metadata": {},
   "source": [
    "**Answer:**"
   ]
  },
  {
   "cell_type": "code",
   "execution_count": null,
   "metadata": {
    "collapsed": true
   },
   "outputs": [],
   "source": [
    "### Run the predictions here.\n",
    "### Feel free to use as many code cells as needed."
   ]
  },
  {
   "cell_type": "markdown",
   "metadata": {},
   "source": [
    "### Question 7\n",
    "\n",
    "_Is your model able to perform equally well on captured pictures when compared to testing on the dataset? The simplest way to do this check the accuracy of the predictions. For example, if the model predicted 1 out of 5 signs correctly, it's 20% accurate._\n",
    "\n",
    "_**NOTE:** You could check the accuracy manually by using `signnames.csv` (same directory). This file has a mapping from the class id (0-42) to the corresponding sign name. So, you could take the class id the model outputs, lookup the name in `signnames.csv` and see if it matches the sign from the image._\n"
   ]
  },
  {
   "cell_type": "markdown",
   "metadata": {},
   "source": [
    "**Answer:**"
   ]
  },
  {
   "cell_type": "code",
   "execution_count": null,
   "metadata": {
    "collapsed": true
   },
   "outputs": [],
   "source": [
    "### Visualize the softmax probabilities here.\n",
    "### Feel free to use as many code cells as needed."
   ]
  },
  {
   "cell_type": "markdown",
   "metadata": {},
   "source": [
    "### Question 8\n",
    "\n",
    "*Use the model's softmax probabilities to visualize the **certainty** of its predictions, [`tf.nn.top_k`](https://www.tensorflow.org/versions/r0.12/api_docs/python/nn.html#top_k) could prove helpful here. Which predictions is the model certain of? Uncertain? If the model was incorrect in its initial prediction, does the correct prediction appear in the top k? (k should be 5 at most)*\n",
    "\n",
    "`tf.nn.top_k` will return the values and indices (class ids) of the top k predictions. So if k=3, for each sign, it'll return the 3 largest probabilities (out of a possible 43) and the correspoding class ids.\n",
    "\n",
    "Take this numpy array as an example:\n",
    "\n",
    "```\n",
    "# (5, 6) array\n",
    "a = np.array([[ 0.24879643,  0.07032244,  0.12641572,  0.34763842,  0.07893497,\n",
    "         0.12789202],\n",
    "       [ 0.28086119,  0.27569815,  0.08594638,  0.0178669 ,  0.18063401,\n",
    "         0.15899337],\n",
    "       [ 0.26076848,  0.23664738,  0.08020603,  0.07001922,  0.1134371 ,\n",
    "         0.23892179],\n",
    "       [ 0.11943333,  0.29198961,  0.02605103,  0.26234032,  0.1351348 ,\n",
    "         0.16505091],\n",
    "       [ 0.09561176,  0.34396535,  0.0643941 ,  0.16240774,  0.24206137,\n",
    "         0.09155967]])\n",
    "```\n",
    "\n",
    "Running it through `sess.run(tf.nn.top_k(tf.constant(a), k=3))` produces:\n",
    "\n",
    "```\n",
    "TopKV2(values=array([[ 0.34763842,  0.24879643,  0.12789202],\n",
    "       [ 0.28086119,  0.27569815,  0.18063401],\n",
    "       [ 0.26076848,  0.23892179,  0.23664738],\n",
    "       [ 0.29198961,  0.26234032,  0.16505091],\n",
    "       [ 0.34396535,  0.24206137,  0.16240774]]), indices=array([[3, 0, 5],\n",
    "       [0, 1, 4],\n",
    "       [0, 5, 1],\n",
    "       [1, 3, 5],\n",
    "       [1, 4, 3]], dtype=int32))\n",
    "```\n",
    "\n",
    "Looking just at the first row we get `[ 0.34763842,  0.24879643,  0.12789202]`, you can confirm these are the 3 largest probabilities in `a`. You'll also notice `[3, 0, 5]` are the corresponding indices."
   ]
  },
  {
   "cell_type": "markdown",
   "metadata": {},
   "source": [
    "**Answer:**"
   ]
  },
  {
   "cell_type": "markdown",
   "metadata": {},
   "source": [
    "> **Note**: Once you have completed all of the code implementations and successfully answered each question above, you may finalize your work by exporting the iPython Notebook as an HTML document. You can do this by using the menu above and navigating to  \\n\",\n",
    "    \"**File -> Download as -> HTML (.html)**. Include the finished document along with this notebook as your submission."
   ]
  },
  {
   "cell_type": "code",
   "execution_count": null,
   "metadata": {
    "collapsed": true
   },
   "outputs": [],
   "source": []
  }
 ],
 "metadata": {
  "anaconda-cloud": {},
  "kernelspec": {
   "display_name": "Python 3",
   "language": "python",
   "name": "python3"
  },
  "language_info": {
   "codemirror_mode": {
    "name": "ipython",
    "version": 3
   },
   "file_extension": ".py",
   "mimetype": "text/x-python",
   "name": "python",
   "nbconvert_exporter": "python",
   "pygments_lexer": "ipython3",
   "version": "3.5.2"
  },
  "widgets": {
   "state": {},
   "version": "1.1.2"
  }
 },
 "nbformat": 4,
 "nbformat_minor": 1
}
